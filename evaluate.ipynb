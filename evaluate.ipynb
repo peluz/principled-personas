{
 "cells": [
  {
   "cell_type": "code",
   "execution_count": null,
   "id": "d654b178-742c-4a01-94e9-862633fccb65",
   "metadata": {},
   "outputs": [],
   "source": [
    "%load_ext autoreload\n",
    "%autoreload 2\n",
    "%matplotlib inline\n",
    "import seaborn as sns\n",
    "import numpy as np\n",
    "from data.personas import *\n",
    "from data.constants import DATASETS, MODEL_ORDER, CATEGORY_ORDER\n",
    "from utils.significance_testing import *\n",
    "from utils.metrics import *\n",
    "import matplotlib.pyplot as plt\n",
    "import statsmodels.formula.api as smf\n",
    "import pickle"
   ]
  },
  {
   "cell_type": "code",
   "execution_count": null,
   "id": "5420aabe-1e4b-491a-9f35-b46f02ea9d29",
   "metadata": {},
   "outputs": [],
   "source": [
    "prefix = \"./results\""
   ]
  },
  {
   "cell_type": "code",
   "execution_count": null,
   "id": "bbbe5fb5-13cd-4abf-9d50-e0a9beece7e8",
   "metadata": {},
   "outputs": [],
   "source": [
    "all_pvalues = pickle.load(open(f\"{prefix}/all_pvalues.pkl\", \"rb\"))\n",
    "all_metrics = pickle.load(open(f\"{prefix}/all_metrics.pkl\", \"rb\"))\n",
    "all_results = pickle.load(open(f\"{prefix}/all_results.pkl\", \"rb\"))\n",
    "fidelity_significance = pickle.load(open(f\"{prefix}/fidelity_significances.pkl\", \"rb\"))\n",
    "fidelity_intervals = pickle.load(open(f\"{prefix}/fidelity_intervals.pkl\", \"rb\"))"
   ]
  },
  {
   "cell_type": "code",
   "execution_count": null,
   "id": "ff4d6c79-d717-41b8-a44f-5aa38daf74ff",
   "metadata": {},
   "outputs": [],
   "source": [
    "import matplotlib.font_manager as fm\n",
    "fm.fontManager.addfont(\"/usr/share/fonts/truetype/cmu/cmunrm.ttf\")   # regular\n",
    "fm.fontManager.addfont(\"/usr/share/fonts/truetype/cmu/cmunbx.ttf\")   # bold\n",
    "bold_font = fm.FontProperties(fname=\"/usr/share/fonts/truetype/cmu/cmunbx.ttf\")\n",
    "cmu_serif = fm.FontProperties(fname=\"/usr/share/fonts/truetype/cmu/cmunrm.ttf\").get_name()\n",
    "print(\"Font name:\", cmu_serif)  # should be \"CMU Serif\""
   ]
  },
  {
   "cell_type": "code",
   "execution_count": null,
   "id": "066cbcc7-4d2c-456d-93f9-f95785d994cf",
   "metadata": {},
   "outputs": [],
   "source": [
    "plt.rcParams.update({\n",
    "    \"text.usetex\": False,  # Enable LaTeX\n",
    "    \"mathtext.fontset\": \"cm\",  # Use Computer Modern (LaTeX default)\n",
    "    \"font.family\": cmu_serif,\n",
    "    \"font.size\": 14,         # Base font size\n",
    "    \"axes.titlesize\": 16,    # Title font size\n",
    "    \"axes.labelsize\": 14,    # Axis label font size\n",
    "    \"xtick.labelsize\": 12,   # X-axis tick font size\n",
    "    \"ytick.labelsize\": 12,   # Y-axis tick font size\n",
    "    \"legend.fontsize\": 14    # Legend font size\n",
    "})"
   ]
  },
  {
   "cell_type": "code",
   "execution_count": null,
   "id": "5f890cd4-0b0d-4427-ac86-d4275c907e8d",
   "metadata": {},
   "outputs": [],
   "source": [
    "fig, axes = plt.subplots(1, 4, sharex=True, sharey=True, figsize=(20,15), gridspec_kw={})\n",
    "name_mapping = {\"static\": \"Static\\n(e.g., expert in fact-checking)\", \"level1\": \"Broad\\n(e.g., expert in math)\", \"level2\": \"Focused\\n(e.g., expert in abstract algebra)\", \"level3\": \"Niche\\n(e.g., expert in group theory)\"}\n",
    "for idx, expert in enumerate([\"static\", \"level1\", \"level2\", \"level3\"]):\n",
    "    ax = axes[idx]\n",
    "    op_df = pd.DataFrame(columns=MODEL_ORDER)\n",
    "    pvalues =  pd.DataFrame(columns=MODEL_ORDER)\n",
    "    if expert==\"static\":\n",
    "        for dataset, metrics in all_results.items():\n",
    "            op_df.loc[dataset] = all_metrics[dataset].loc[\"OP\"]\n",
    "            df = all_pvalues[dataset]\n",
    "            pvalues.loc[dataset] = df.loc[\"in-expert\"]\n",
    "    else:\n",
    "        for dataset, metrics in all_results.items():\n",
    "            op_df.loc[dataset] = metrics.loc[expert] - metrics.loc[\"empty\"]\n",
    "            df = all_pvalues[dataset]\n",
    "            pvalues.loc[dataset] = df.loc[expert]\n",
    "    # op_df.loc[\"Avg.\"] = op_df.mean(0)\n",
    "    # op_df[\"Avg.\"] = op_df.mean(1)\n",
    "    # pvalues.loc[\"Avg.\"] = op_df.apply(lambda x: wilcoxon(x.values).pvalue,axis=0)\n",
    "    # pvalues[\"Avg.\"] = op_df.apply(lambda x: wilcoxon(x.values).pvalue,axis=1)\n",
    "    op_masked = op_df.mask(pvalues > .05, np.nan)\n",
    "    # op_masked = op_masked.map(lambda x: 0 if x > 0 else (-1 if x < 0 else np.nan))\n",
    "    op_masked = op_masked.rename(columns=lambda x: x.rsplit(\"-\", maxsplit=1)[0])\n",
    "    op_masked = op_masked.rename(index=lambda x: x.replace(\"contextual_parametric_\", \"\"))\n",
    "    sns.heatmap(op_masked, cmap=sns.diverging_palette(260, 30, s=100, center='light', as_cmap=True), vmin=-.1, vmax=.1,center=0, cbar=False,annot=op_df*100, fmt=\".1f\", square=True, linewidth=1, linecolor=\"gray\", ax=ax)\n",
    "    x= np.arange(op_masked.shape[1]+1)\n",
    "    y= np.arange(op_masked.shape[0]+1)\n",
    "    pvalues = pvalues.map(lambda x: x if x <0.05 else 1)\n",
    "    zm = np.ma.masked_less(pvalues.loc[op_df.index].values, 0.05)\n",
    "    ax.pcolor(x, y, zm , cmap=\"Grays_r\", alpha=.02)\n",
    "    ax.vlines([0, 3, 6, 9], *ax.get_ylim(), lw=1, color=\"black\")\n",
    "    ax.hlines([0, 1, 2, 16,20,27], *ax.get_ylim(), lw=1, color=\"black\")\n",
    "    ax.set_title(name_mapping[expert],fontproperties=bold_font,fontsize=18)\n",
    "\n",
    "    if idx//2 == 0: ax.get_xaxis().set_ticks([])\n",
    "fig.suptitle(\"Base prompt\", fontproperties=bold_font, y=.93,fontsize=20)\n",
    "plt.subplots_adjust(wspace=.05, hspace=0)\n",
    "#fig.tight_layout()"
   ]
  },
  {
   "cell_type": "code",
   "execution_count": null,
   "id": "6ba2807c-0cb6-48f0-a010-bc811fdd26f1",
   "metadata": {},
   "outputs": [],
   "source": [
    "#ax.get_figure().savefig(\"../persona_performance_paper/media/expertise_tasks_heatmap.pdf\", bbox_inches=\"tight\")"
   ]
  },
  {
   "cell_type": "code",
   "execution_count": null,
   "id": "1b8faf51-a9d0-4b54-a332-178465aa7003",
   "metadata": {},
   "outputs": [],
   "source": [
    "fig, axes = plt.subplots(1, 2, sharex=True, sharey=True, figsize=(10.5,15), gridspec_kw={})\n",
    "category_mapping = {\"color\": COLOR_PERSONAS, \"name\": NAMES}\n",
    "# plt.subplots_adjust(wspace=.15, hspace=.001)\n",
    "robs_df = {}\n",
    "for idx, rob in enumerate([\"color\", \"name\"]):\n",
    "    ax = axes[idx]\n",
    "    rob_df = pd.DataFrame(columns=MODEL_ORDER)\n",
    "    pvalues =  pd.DataFrame(columns=MODEL_ORDER)\n",
    "    for dataset, metrics in all_results.items():\n",
    "        rob_df.loc[dataset] = all_metrics[dataset].loc[f\"WU_{rob}\"]\n",
    "        df = all_pvalues[dataset]\n",
    "        worst = worst_case_utility(all_results[dataset], category_mapping[rob], return_persona=True)[1]\n",
    "        for model in MODEL_ORDER:\n",
    "            pvalues.loc[dataset, model] = df.loc[worst[model], model]\n",
    "    robs_df[rob] = rob_df\n",
    "    # rob_df.loc[\"Avg.\"] = rob_df.mean(0)\n",
    "    # rob_df[\"Avg.\"] = rob_df.mean(1)\n",
    "    # pvalues.loc[\"Avg.\"] = rob_df.apply(lambda x: wilcoxon(x.values).pvalue,axis=0)\n",
    "    # pvalues[\"Avg.\"] = rob_df.apply(lambda x: wilcoxon(x.values).pvalue,axis=1)\n",
    "    rob_masked = rob_df.mask(pvalues > .05, np.nan)\n",
    "    # rob_masked = rob_masked.map(lambda x: 0 if x > 0 else (-1 if x < 0 else np.nan))\n",
    "    rob_masked = rob_masked.rename(columns=lambda x: x.rsplit(\"-\", maxsplit=1)[0])\n",
    "    rob_masked = rob_masked.rename(index=lambda x: x.replace(\"contextual_parametric_\", \"\"))\n",
    "    sns.heatmap(rob_masked,cmap=sns.diverging_palette(260, 30, s=100, center='light', as_cmap=True), vmin=-.1, vmax=.1,center=0, cbar=False,annot=rob_df*100, fmt=\".1f\", square=True, linewidth=1, linecolor=\"gray\", ax=ax)\n",
    "    x= np.arange(rob_masked.shape[1]+1)\n",
    "    y= np.arange(rob_masked.shape[0]+1)\n",
    "    pvalues = pvalues.map(lambda x: x if x <0.05 else 1)\n",
    "    zm = np.ma.masked_less(pvalues.loc[rob_df.index].values, 0.05)\n",
    "    ax.pcolor(x, y, zm , cmap=\"Grays_r\", alpha=.02)\n",
    "    ax.vlines([0, 3, 6, 9], *ax.get_ylim(), lw=1, color=\"black\")\n",
    "    ax.hlines([0, 5], *ax.get_xlim(), lw=1, color=\"black\")\n",
    "    ax.hlines([0, 1, 2, 16,20,27], *ax.get_ylim(), lw=1, color=\"black\")\n",
    "    ax.set_title(rob.capitalize(),fontproperties=bold_font,fontsize=18)\n",
    "    # if idx//2 == 0: ax.get_xaxis().set_ticks([])\n",
    "fig.suptitle(\"Base prompt\", fontproperties=bold_font, y=.93,fontsize=20)\n",
    "plt.subplots_adjust(wspace=.05, hspace=0)\n",
    "#fig.tight_layout()"
   ]
  },
  {
   "cell_type": "code",
   "execution_count": null,
   "id": "701dc8f3-9f16-47d8-a942-a7207b020992",
   "metadata": {},
   "outputs": [],
   "source": [
    "#ax.get_figure().savefig(\"../persona_performance_paper/media/robustness_tasks_heatmap.pdf\", bbox_inches=\"tight\")"
   ]
  },
  {
   "cell_type": "code",
   "execution_count": null,
   "id": "487dd736-40c0-4a50-8fa9-9214a81b27f5",
   "metadata": {},
   "outputs": [],
   "source": [
    "fig, axes = plt.subplots(1, 3, sharey=True, figsize=(15,15))\n",
    "category_mapping = {\"Exp. Domain\": \"Exp\", \"Exp. Specialization\": \"ExpLevel\", \"Education\": \"Ed\"}\n",
    "fid_dfs = {}\n",
    "# plt.subplots_adjust(wspace=.15, hspace=.001)\n",
    "for idx, fid in enumerate([\"Exp. Domain\", \"Exp. Specialization\", \"Education\"]):\n",
    "    ax = axes[idx]\n",
    "    fid_df = pd.DataFrame(columns=MODEL_ORDER)\n",
    "    pvalues =  pd.DataFrame(columns=MODEL_ORDER)\n",
    "    for dataset, metrics in all_results.items():\n",
    "        fid_df.loc[dataset] = all_metrics[dataset].loc[f\"Fid_{category_mapping[fid]}\"]\n",
    "        pvalues.loc[dataset] = fidelity_significance[dataset].loc[f\"Fid_{category_mapping[fid]}\"]\n",
    "    fid_dfs[fid]=fid_df\n",
    "    # fid_df.loc[\"Avg.\"] = fid_df.mean(0)\n",
    "    # fid_df[\"Avg.\"] = fid_df.mean(1)\n",
    "    # pvalues.loc[\"Avg.\"] = fid_df.apply(lambda x: wilcoxon(x.values).pvalue,axis=0)\n",
    "    # pvalues[\"Avg.\"] = fid_df.apply(lambda x: wilcoxon(x.values).pvalue,axis=1)\n",
    "    fid_masked = fid_df.mask(pvalues ==False, np.nan)\n",
    "    # rob_masked = rob_masked.map(lambda x: 0 if x > 0 else (-1 if x < 0 else np.nan))\n",
    "    fid_masked = fid_masked.rename(columns=lambda x: x.rsplit(\"-\", maxsplit=1)[0])\n",
    "    fid_masked = fid_masked.rename(index=lambda x: x.replace(\"contextual_parametric_\", \"\"))\n",
    "    sns.heatmap(fid_masked,cmap=sns.diverging_palette(260, 30, s=100, center='light', as_cmap=True),center=0, cbar=False,annot=fid_df*100, fmt=\".0f\", square=True, linewidth=1, linecolor=\"gray\", ax=ax)\n",
    "    x= np.arange(rob_masked.shape[1]+1)\n",
    "    y= np.arange(rob_masked.shape[0]+1)\n",
    "    pvalues = pvalues.map(lambda x: x if x <0.05 else 1)\n",
    "    zm = np.ma.masked_less(pvalues.loc[fid_df.index].values, 0.05)\n",
    "    ax.vlines([0, 3, 6, 9], *ax.get_ylim(), lw=1, color=\"black\")\n",
    "    ax.hlines([0, 1, 2, 16,20,27], *ax.get_ylim(), lw=1, color=\"black\")\n",
    "    ax.set_title(fid.capitalize(), fontproperties=bold_font, fontsize=18)\n",
    "    # if idx//2 == 0: ax.get_xaxis().set_ticks([])\n",
    "fig.suptitle(\"Base prompt\", fontproperties=bold_font, fontsize=20,y=.93)\n",
    "plt.subplots_adjust(wspace=.05, hspace=0)\n",
    "#fig.tight_layout()"
   ]
  },
  {
   "cell_type": "code",
   "execution_count": null,
   "id": "15e99d98-1e4b-462a-81a4-2452f6b1a718",
   "metadata": {},
   "outputs": [],
   "source": [
    "#ax.get_figure().savefig(\"../persona_performance_paper/media/fidelity_tasks_heatmap.pdf\", bbox_inches=\"tight\")"
   ]
  },
  {
   "cell_type": "code",
   "execution_count": null,
   "id": "71021652-6ddb-42e9-acb5-1631b51ff5d5",
   "metadata": {},
   "outputs": [],
   "source": [
    "def compute_r2(model, df):\n",
    "    fixed_effects_variance = np.var(model.predict(df))\n",
    "    print(f\"fixed effects variance: {fixed_effects_variance}\")\n",
    "    random_effects_variance = model.cov_re.iloc[0, 0]\n",
    "    print(f\"random effects variance: {random_effects_variance}\")\n",
    "    residual_variance = model.scale\n",
    "    print(f\"Residual variance: {residual_variance}\")\n",
    "    \n",
    "    # Calculate Marginal and Conditional R^2 from theese extracted variances:\n",
    "    R2_m = fixed_effects_variance / (fixed_effects_variance + random_effects_variance + residual_variance)\n",
    "    R2_c = (fixed_effects_variance + random_effects_variance) / (fixed_effects_variance + random_effects_variance + residual_variance)\n",
    "    return R2_m, R2_c"
   ]
  },
  {
   "cell_type": "code",
   "execution_count": null,
   "id": "20b421b0-3684-45ab-9ece-8e9ee4c72780",
   "metadata": {},
   "outputs": [],
   "source": [
    "all_df = pd.DataFrame()\n",
    "for k, v in all_results.items():\n",
    "    df = v.copy()\n",
    "    # df = df[[x for x in MODEL_ORDER if x != \"Llama-3.2-3B-Instruct\"]]\n",
    "    df = df.stack().reset_index()\n",
    "    df.columns = [\"persona\", \"model\", \"score\"]\n",
    "    df = df[df.persona.isin(EDUCATION_PERSONAS + COLOR_PERSONAS + NAMES + [\"empty\", \"in-expert\", \"experts\", \"out-expert\", \"level1\", \"level2\", \"level3\" ])]\n",
    "    df[\"dataset\"] = k\n",
    "    all_df = pd.concat([all_df, df], axis=0)"
   ]
  },
  {
   "cell_type": "code",
   "execution_count": null,
   "id": "3a2ff58e-8ec8-4d5e-acb2-a851eab74532",
   "metadata": {},
   "outputs": [],
   "source": [
    "all_df[\"modelDataset\"] = all_df[\"model\"] + all_df[\"dataset\"].astype(str)"
   ]
  },
  {
   "cell_type": "code",
   "execution_count": null,
   "id": "e784a911-3dec-49fe-a766-257205a9dc01",
   "metadata": {},
   "outputs": [],
   "source": [
    "rename_rules = {\n",
    "    \"in-expert\": r\"$\\text{exp}$\",\n",
    "    \"out-expert\": r\"${\\neg}\\text{exp}$\",\n",
    "    \"experts\": r\"${\\sim}\\text{exp}$\",\n",
    "    \"level1\": r\"$\\text{exp}_\\text{Broad}$\",\n",
    "    \"level2\": r\"$\\text{exp}_\\text{Focused}$\",\n",
    "    \"level3\": r\"$\\text{exp}_\\text{Niche}$\",\n",
    "}\n"
   ]
  },
  {
   "cell_type": "code",
   "execution_count": null,
   "id": "033f54c5-4d11-4f5b-a961-5e2041c98ee8",
   "metadata": {},
   "outputs": [],
   "source": [
    "def plot_errorbars(table, figsize=(8,8), x_label=\"Estimated persona effect\"):\n",
    "    table = table.rename(index=lambda x: x.split(\"T.\")[-1].rstrip(\"]\"))\n",
    "    table = table.rename(index=lambda x: rename_rules[x] if x in rename_rules else x)\n",
    "    table = table.rename(index=lambda x: x.replace(\"an \", \"\").replace(\"a \", \"\").replace(\"person with \", \"\").replace(\" person\", \"\").replace(\" level education\", \"\").replace(\"-level education\", \"\"))\n",
    "    f, axs = plt.subplots(1, figsize=figsize,layout=\"tight\")\n",
    "    sns.stripplot(table, y=table.sort_values([\"Coef.\", \"P>|z|\"]).index, x=table.sort_values(\"Coef.\")[\"Coef.\"], ax=axs, s=5)\n",
    "    for idx, (_, row) in enumerate(table.sort_values(\"Coef.\").iterrows()):\n",
    "        axs.plot([row[\"[0.025\"], row[\"0.975]\"]],[idx, idx], 'b-|', markersize=5)\n",
    "    axs.axvline(x=0.00,color='black',linewidth=1,linestyle='--')\n",
    "    axs.set_ylabel(\"\")\n",
    "    axs.set_xlabel(x_label)\n",
    "    return axs"
   ]
  },
  {
   "cell_type": "code",
   "execution_count": null,
   "id": "4ab97486-0476-4833-8eeb-168eff3befc7",
   "metadata": {},
   "outputs": [],
   "source": [
    "cats = []\n",
    "for p in all_df.persona.tolist():\n",
    "    if p in COLOR_PERSONAS: cats.append(\"color\")\n",
    "    elif p in NAMES: cats.append(\"name\")\n",
    "    # elif p in EDUCATION_PERSONAS: cats.append(\"education\")\n",
    "    else: cats.append(p)"
   ]
  },
  {
   "cell_type": "code",
   "execution_count": null,
   "id": "cfa24d31-e478-46c7-87b8-7262dda7fa5d",
   "metadata": {},
   "outputs": [],
   "source": [
    "all_df[\"category\"] = cats"
   ]
  },
  {
   "cell_type": "code",
   "execution_count": null,
   "id": "0ca4f173-39d3-4c7f-9b1b-332de3e1256a",
   "metadata": {},
   "outputs": [],
   "source": [
    "md = smf.mixedlm(\"score ~ C(category, Treatment(reference='empty'))\", all_df, groups=all_df[\"modelDataset\"])"
   ]
  },
  {
   "cell_type": "code",
   "execution_count": null,
   "id": "d0524285-e84e-492f-a839-246c57371f9d",
   "metadata": {},
   "outputs": [],
   "source": [
    "mdf = md.fit()\n",
    "display(mdf.summary().tables[0])\n",
    "coefs = mdf.summary().tables[1]\n",
    "coefs[\"Coef.\"] = coefs[\"Coef.\"].astype(\"float\")\n",
    "display(coefs.sort_values(\"Coef.\"))"
   ]
  },
  {
   "cell_type": "code",
   "execution_count": null,
   "id": "dc8916f8-a776-47d2-bb30-0d865bfbdaeb",
   "metadata": {},
   "outputs": [],
   "source": [
    "table = mdf.summary().tables[1]"
   ]
  },
  {
   "cell_type": "code",
   "execution_count": null,
   "id": "469aa814-2a97-4107-a5e5-bcf066874b47",
   "metadata": {},
   "outputs": [],
   "source": [
    "table = table.loc[[x for x in table.index if \"reference\" in x]].astype(\"float\")"
   ]
  },
  {
   "cell_type": "code",
   "execution_count": null,
   "id": "61f3a5cc-e8dd-424d-b18b-19d0eef0456a",
   "metadata": {},
   "outputs": [],
   "source": [
    "ax = plot_errorbars(table, (4,3))"
   ]
  },
  {
   "cell_type": "code",
   "execution_count": null,
   "id": "6f35ff31-07ad-4789-9425-b80e036e9377",
   "metadata": {},
   "outputs": [],
   "source": [
    "#ax.get_figure().savefig(\"../persona_performance_paper/media/regression_coefs.pdf\", bbox_inches=\"tight\")"
   ]
  },
  {
   "cell_type": "code",
   "execution_count": null,
   "id": "ef62c446-c8ef-4e97-b062-7fc7b77b8668",
   "metadata": {},
   "outputs": [],
   "source": [
    "marg, cond = compute_r2(mdf, all_df)"
   ]
  },
  {
   "cell_type": "code",
   "execution_count": null,
   "id": "4f76e49e-2d1e-4993-82bc-0e016952de15",
   "metadata": {},
   "outputs": [],
   "source": [
    "marg, cond, marg/(1- cond + marg)"
   ]
  },
  {
   "cell_type": "code",
   "execution_count": null,
   "id": "b2d00ec8-2858-4b04-967a-777cfa3f00ac",
   "metadata": {},
   "outputs": [],
   "source": [
    "large_only = all_df[all_df.model.isin([MODEL_ORDER[5], MODEL_ORDER[-1]])]"
   ]
  },
  {
   "cell_type": "code",
   "execution_count": null,
   "id": "2432751c-4b63-4ca4-b592-b3264f4c04d1",
   "metadata": {},
   "outputs": [],
   "source": [
    "md = smf.mixedlm(\"score ~ C(category, Treatment(reference='empty'))\", large_only, groups=large_only[\"modelDataset\"])"
   ]
  },
  {
   "cell_type": "code",
   "execution_count": null,
   "id": "9ebeb46f-cacf-4b8e-be2c-ed6d6a6da681",
   "metadata": {},
   "outputs": [],
   "source": [
    "mdf = md.fit()\n",
    "display(mdf.summary().tables[0])\n",
    "coefs = mdf.summary().tables[1]\n",
    "coefs[\"Coef.\"] = coefs[\"Coef.\"].astype(\"float\")\n",
    "display(coefs.sort_values(\"Coef.\"))"
   ]
  },
  {
   "cell_type": "code",
   "execution_count": null,
   "id": "869ea5d0-4952-49b3-904f-5e39edb8b40d",
   "metadata": {},
   "outputs": [],
   "source": [
    "table = mdf.summary().tables[1]\n",
    "table = table.loc[[x for x in table.index if \"reference\" in x]].astype(\"float\")"
   ]
  },
  {
   "cell_type": "code",
   "execution_count": null,
   "id": "6f02e4c5-faaf-48a3-b740-d09fe974741a",
   "metadata": {},
   "outputs": [],
   "source": [
    "ax = plot_errorbars(table, (6,4))"
   ]
  },
  {
   "cell_type": "markdown",
   "id": "a6c2c2fb-17d2-4f48-a918-156ca35e9c88",
   "metadata": {},
   "source": [
    "#### Scale effect on OP"
   ]
  },
  {
   "cell_type": "code",
   "execution_count": null,
   "id": "438f71ff-6366-465a-8916-027e32024399",
   "metadata": {},
   "outputs": [],
   "source": [
    "sizes =  [1, 2, 3, 1, 2, 4, 1, 2, 4]\n",
    "size_map = {k:v  for v, k in zip(sizes, MODEL_ORDER)}"
   ]
  },
  {
   "cell_type": "code",
   "execution_count": null,
   "id": "a5d095c0-77f4-4a4c-8d13-4109503ebbdd",
   "metadata": {},
   "outputs": [],
   "source": [
    "all_df[\"size\"] = all_df.model.apply(lambda x: size_map[x]).astype(\"int\")"
   ]
  },
  {
   "cell_type": "code",
   "execution_count": null,
   "id": "1bf2ae50-27f8-4dd9-946f-b3fe2326d2bc",
   "metadata": {},
   "outputs": [],
   "source": [
    "families = [\"gemma\", \"llama\", \"qwen\"]"
   ]
  },
  {
   "cell_type": "code",
   "execution_count": null,
   "id": "840b803e-74e6-44a2-ae62-f6287f8c2dbb",
   "metadata": {},
   "outputs": [],
   "source": [
    "all_df[\"family\"] = all_df.model.apply(lambda x: families[MODEL_ORDER.index(x) // 3])"
   ]
  },
  {
   "cell_type": "code",
   "execution_count": null,
   "id": "2ceed2a9-c02a-465f-b5e0-84a0f94f0358",
   "metadata": {},
   "outputs": [],
   "source": [
    "all_df[\"familyDataset\"] = all_df[\"family\"] + all_df[\"dataset\"].astype(str)"
   ]
  },
  {
   "cell_type": "code",
   "execution_count": null,
   "id": "4b3d8e03-540a-46fa-92d8-9dfe19a7bae6",
   "metadata": {},
   "outputs": [],
   "source": [
    "expert_df = all_df[all_df[\"persona\"].isin([\"in-expert\", \"empty\"])]\n",
    "\n",
    "over_df = expert_df[expert_df[\"persona\"] == \"in-expert\"].copy()\n",
    "\n",
    "over_df.score = expert_df[expert_df[\"persona\"] == \"in-expert\"].score-  expert_df[expert_df[\"persona\"] == \"empty\"].score.values\n",
    "\n",
    "md = smf.mixedlm(\"score ~ size\", over_df, groups=over_df[\"familyDataset\"])\n",
    "\n",
    "mdf = md.fit()\n",
    "display(mdf.summary().tables[0])\n",
    "coefs = mdf.summary().tables[1]\n",
    "coefs[\"Coef.\"] = coefs[\"Coef.\"].astype(\"float\")\n",
    "display(coefs.sort_values(\"Coef.\"))"
   ]
  },
  {
   "cell_type": "markdown",
   "id": "f4d75e85-345f-4d49-bc96-4391d95eaf97",
   "metadata": {},
   "source": [
    "#### Scale effect on OP (broad)"
   ]
  },
  {
   "cell_type": "code",
   "execution_count": null,
   "id": "23bbb3a1-a216-4aed-bc71-6366df91cd06",
   "metadata": {},
   "outputs": [],
   "source": [
    "expert_df = all_df[all_df[\"persona\"].isin([\"level1\", \"empty\"])]\n",
    "\n",
    "broad_df = expert_df[expert_df[\"persona\"] == \"level1\"].copy()\n",
    "\n",
    "broad_df.score =expert_df[expert_df[\"persona\"] == \"level1\"].score-  expert_df[expert_df[\"persona\"] == \"empty\"].score.values\n",
    "\n",
    "md = smf.mixedlm(\"score ~ size\", broad_df, groups=broad_df[\"familyDataset\"])\n",
    "\n",
    "mdf = md.fit()\n",
    "display(mdf.summary().tables[0])\n",
    "coefs = mdf.summary().tables[1]\n",
    "coefs[\"Coef.\"] = coefs[\"Coef.\"].astype(\"float\")\n",
    "display(coefs.sort_values(\"Coef.\"))"
   ]
  },
  {
   "cell_type": "markdown",
   "id": "9e5c540a-4210-4660-98e5-ab45fee38961",
   "metadata": {},
   "source": [
    "#### Scale effect on OP (Focused)"
   ]
  },
  {
   "cell_type": "code",
   "execution_count": null,
   "id": "afbbd9eb-cb3c-4ab7-968e-a362a6079277",
   "metadata": {},
   "outputs": [],
   "source": [
    "expert_df = all_df[all_df[\"persona\"].isin([\"level2\", \"empty\"])]\n",
    "\n",
    "focused_df = expert_df[expert_df[\"persona\"] == \"level2\"].copy()\n",
    "\n",
    "focused_df.score =expert_df[expert_df[\"persona\"] == \"level2\"].score-  expert_df[expert_df[\"persona\"] == \"empty\"].score.values\n",
    "\n",
    "md = smf.mixedlm(\"score ~ size\", focused_df, groups=focused_df[\"familyDataset\"])\n",
    "\n",
    "mdf = md.fit()\n",
    "display(mdf.summary().tables[0])\n",
    "coefs = mdf.summary().tables[1]\n",
    "coefs[\"Coef.\"] = coefs[\"Coef.\"].astype(\"float\")\n",
    "display(coefs.sort_values(\"Coef.\"))"
   ]
  },
  {
   "cell_type": "markdown",
   "id": "7d5daad7-ea67-4b5a-9252-6f2a4bcfec67",
   "metadata": {},
   "source": [
    "#### Scale effect on OP (niche)"
   ]
  },
  {
   "cell_type": "code",
   "execution_count": null,
   "id": "f5cd1e23-db8f-4ab5-aaf9-6eca085e3f41",
   "metadata": {},
   "outputs": [],
   "source": [
    "expert_df = all_df[all_df[\"persona\"].isin([\"level3\", \"empty\"])]\n",
    "\n",
    "niche_df = expert_df[expert_df[\"persona\"] == \"level3\"].copy()\n",
    "\n",
    "niche_df.score =expert_df[expert_df[\"persona\"] == \"level3\"].score-  expert_df[expert_df[\"persona\"] == \"empty\"].score.values\n",
    "\n",
    "md = smf.mixedlm(\"score ~ size\", niche_df, groups=niche_df[\"familyDataset\"])\n",
    "\n",
    "mdf = md.fit()\n",
    "display(mdf.summary().tables[0])\n",
    "coefs = mdf.summary().tables[1]\n",
    "coefs[\"Coef.\"] = coefs[\"Coef.\"].astype(\"float\")\n",
    "display(coefs.sort_values(\"Coef.\"))"
   ]
  },
  {
   "cell_type": "markdown",
   "id": "e2558340-ccca-40a1-86ea-1643c01edbbb",
   "metadata": {},
   "source": [
    "#### Scale effect on Robustness (color)"
   ]
  },
  {
   "cell_type": "code",
   "execution_count": null,
   "id": "ef046dc1-77e5-4bce-a540-d0b1ec049b95",
   "metadata": {},
   "outputs": [],
   "source": [
    "color_rob = all_df.drop_duplicates(\"modelDataset\")\n",
    "\n",
    "color_rob.loc[:,\"score\"] = [robs_df[\"color\"].loc[row[\"dataset\"], row[\"model\"]] for _, row  in color_rob.iterrows()]\n",
    "\n",
    "md = smf.mixedlm(\"score ~ size\", color_rob, groups=color_rob[\"familyDataset\"])\n",
    "\n",
    "mdf = md.fit()\n",
    "display(mdf.summary().tables[0])\n",
    "coefs = mdf.summary().tables[1]\n",
    "coefs[\"Coef.\"] = coefs[\"Coef.\"].astype(\"float\")\n",
    "display(coefs.sort_values(\"Coef.\"))\n",
    "\n",
    "marg, cond = compute_r2(mdf, all_df)\n",
    "\n",
    "marg, cond, marg/(1- cond + marg)"
   ]
  },
  {
   "cell_type": "markdown",
   "id": "2693b974-a7f8-43c2-ade3-7b56c4ebd771",
   "metadata": {},
   "source": [
    "#### Scale effect on Robustness (name)"
   ]
  },
  {
   "cell_type": "code",
   "execution_count": null,
   "id": "934c0a8b-b078-4228-9e41-749760907ba1",
   "metadata": {},
   "outputs": [],
   "source": [
    "name_rob = all_df.drop_duplicates(\"modelDataset\")\n",
    "\n",
    "name_rob.loc[:,\"score\"] = [robs_df[\"name\"].loc[row[\"dataset\"], row[\"model\"]] for _, row  in name_rob.iterrows()]\n",
    "\n",
    "md = smf.mixedlm(\"score ~ size\", name_rob, groups=name_rob[\"familyDataset\"])\n",
    "\n",
    "mdf = md.fit()\n",
    "display(mdf.summary().tables[0])\n",
    "coefs = mdf.summary().tables[1]\n",
    "coefs[\"Coef.\"] = coefs[\"Coef.\"].astype(\"float\")\n",
    "display(coefs.sort_values(\"Coef.\"))\n",
    "\n",
    "marg, cond = compute_r2(mdf, all_df)\n",
    "\n",
    "marg, cond, marg/(1- cond + marg)"
   ]
  },
  {
   "cell_type": "markdown",
   "id": "657668ad-3c3e-4a15-abcc-d3fdde4c8b2e",
   "metadata": {},
   "source": [
    "#### Scale effect on Fidelity (education)"
   ]
  },
  {
   "cell_type": "code",
   "execution_count": null,
   "id": "811dee43-47c2-424b-8690-3e82cda8c774",
   "metadata": {},
   "outputs": [],
   "source": [
    "education_fid = all_df.drop_duplicates(\"modelDataset\")\n",
    "\n",
    "education_fid.loc[:,\"score\"] = [fid_dfs[\"Education\"].loc[row[\"dataset\"], row[\"model\"]] for _, row  in education_fid.iterrows()]\n",
    "\n",
    "md = smf.mixedlm(\"score ~ size\", education_fid, groups=education_fid[\"familyDataset\"])\n",
    "\n",
    "mdf = md.fit()\n",
    "display(mdf.summary().tables[0])\n",
    "coefs = mdf.summary().tables[1]\n",
    "coefs[\"Coef.\"] = coefs[\"Coef.\"].astype(\"float\")\n",
    "display(coefs.sort_values(\"Coef.\"))\n",
    "\n",
    "marg, cond = compute_r2(mdf, all_df)\n",
    "\n",
    "marg, cond, marg/(1- cond + marg)"
   ]
  },
  {
   "cell_type": "markdown",
   "id": "1d5e3544-c0f1-453c-b7e2-8bc1aa7d36c5",
   "metadata": {},
   "source": [
    "#### Scale effect on Fidelity (expertise)"
   ]
  },
  {
   "cell_type": "code",
   "execution_count": null,
   "id": "080eea55-1a80-4f6a-bc06-76dc45ac07c9",
   "metadata": {},
   "outputs": [],
   "source": [
    "expert_fid = all_df.drop_duplicates(\"modelDataset\")\n",
    "\n",
    "expert_fid.loc[:,\"score\"] = [fid_dfs[\"Exp. Domain\"].loc[row[\"dataset\"], row[\"model\"]] for _, row  in expert_fid.iterrows()]\n",
    "\n",
    "md = smf.mixedlm(\"score ~ size\", expert_fid, groups=expert_fid[\"familyDataset\"])\n",
    "\n",
    "mdf = md.fit()\n",
    "display(mdf.summary().tables[0])\n",
    "coefs = mdf.summary().tables[1]\n",
    "coefs[\"Coef.\"] = coefs[\"Coef.\"].astype(\"float\")\n",
    "display(coefs.sort_values(\"Coef.\"))\n",
    "\n",
    "marg, cond = compute_r2(mdf, all_df)\n",
    "\n",
    "marg, cond, marg/(1- cond + marg)"
   ]
  },
  {
   "cell_type": "markdown",
   "id": "5b4ffcd8-005a-4c67-816e-2f186dfd1231",
   "metadata": {},
   "source": [
    "#### Scale effect on Fidelity (expertise level)"
   ]
  },
  {
   "cell_type": "code",
   "execution_count": null,
   "id": "ec00e0fa-5c69-4707-b096-4022243546d9",
   "metadata": {},
   "outputs": [],
   "source": [
    "expert_level_fid = all_df.drop_duplicates(\"modelDataset\")\n",
    "\n",
    "expert_level_fid.loc[:,\"score\"] = [fid_dfs[\"Exp. Specialization\"].loc[row[\"dataset\"], row[\"model\"]] for _, row  in expert_level_fid.iterrows()]\n",
    "\n",
    "md = smf.mixedlm(\"score ~ size\", expert_level_fid, groups=expert_level_fid[\"familyDataset\"])\n",
    "\n",
    "mdf = md.fit()\n",
    "display(mdf.summary().tables[0])\n",
    "coefs = mdf.summary().tables[1]\n",
    "coefs[\"Coef.\"] = coefs[\"Coef.\"].astype(\"float\")\n",
    "display(coefs.sort_values(\"Coef.\"))\n",
    "\n",
    "marg, cond = compute_r2(mdf, all_df)\n",
    "\n",
    "marg, cond, marg/(1- cond + marg)"
   ]
  },
  {
   "cell_type": "markdown",
   "id": "1d47ab50-5935-45ae-99bc-720a11bc4ea2",
   "metadata": {},
   "source": [
    "#### Combined scale effect"
   ]
  },
  {
   "cell_type": "code",
   "execution_count": null,
   "id": "1551a560-b094-42e9-b7b1-2e2cccac96aa",
   "metadata": {},
   "outputs": [],
   "source": [
    "scale_dfs = [over_df, broad_df, focused_df, niche_df, color_rob, name_rob, expert_fid, education_fid, expert_level_fid]"
   ]
  },
  {
   "cell_type": "code",
   "execution_count": null,
   "id": "92e8d2e3-99cb-416c-ab6e-152afa81ffeb",
   "metadata": {},
   "outputs": [],
   "source": [
    "metrics = [\"Exp. Advant.\\n(static)\", \"Exp. Advant.\\n(broad)\", \"Exp. Advant.\\n(focused)\", \"Exp. Advant.\\n(niche)\", \"Robustness\\n(color)\", \"Robustness\\n(name)\", \"Fidelity\\n(domain match)\", \"Fidelity\\n(education)\", \"Fidelity\\n(expertise level)\"]"
   ]
  },
  {
   "cell_type": "code",
   "execution_count": null,
   "id": "f9c4d8b5-a72a-4299-9fb8-f9312eb68cb8",
   "metadata": {},
   "outputs": [],
   "source": [
    "all_coefs = pd.DataFrame()\n",
    "for idx, df in enumerate(scale_dfs):\n",
    "    md = smf.mixedlm(\"score ~ size\", df, groups=df[\"familyDataset\"])\n",
    "    \n",
    "    mdf = md.fit()\n",
    "    coefs = mdf.summary().tables[1]\n",
    "    coefs[\"Coef.\"] = coefs[\"Coef.\"].astype(\"float\")\n",
    "    coefs = coefs.rename(index=lambda x: metrics[idx] if x == \"size\" else x)\n",
    "    all_coefs = pd.concat([all_coefs, coefs.loc[[metrics[idx]]]], axis=0)"
   ]
  },
  {
   "cell_type": "code",
   "execution_count": null,
   "id": "a1c0dc8d-ab45-4edc-9b20-7ecc81869e9b",
   "metadata": {},
   "outputs": [],
   "source": [
    "all_coefs = all_coefs.sort_values(\"Coef.\")"
   ]
  },
  {
   "cell_type": "code",
   "execution_count": null,
   "id": "58a80382-7834-4625-86cf-ed5a15dbc91e",
   "metadata": {},
   "outputs": [],
   "source": [
    "table= all_coefs.astype(\"float\")"
   ]
  },
  {
   "cell_type": "code",
   "execution_count": null,
   "id": "031d9779-874d-4ccf-9184-6755195a1f1f",
   "metadata": {},
   "outputs": [],
   "source": [
    "metric_categories = [\"Exp. Advant.\", \"Robustness\", \"Fidelity\"]"
   ]
  },
  {
   "cell_type": "code",
   "execution_count": null,
   "id": "6073398e-7367-46e6-ac5b-80b01bd4fc72",
   "metadata": {},
   "outputs": [],
   "source": [
    "table[\"metric\"] = table.index.map(lambda x: x.split(\"\\n\")[0]).astype(pd.CategoricalDtype(categories=metric_categories, ordered=True))"
   ]
  },
  {
   "cell_type": "code",
   "execution_count": null,
   "id": "52a34ff3-c5fc-4b90-9a30-0da2934401d9",
   "metadata": {},
   "outputs": [],
   "source": [
    "table = table.sort_values(\"metric\")"
   ]
  },
  {
   "cell_type": "code",
   "execution_count": null,
   "id": "2b57102a-9b51-4f0d-aaca-20cb9c9cdc23",
   "metadata": {},
   "outputs": [],
   "source": [
    "table"
   ]
  },
  {
   "cell_type": "code",
   "execution_count": null,
   "id": "6233b46c-99fd-4546-87fa-adcddcceae51",
   "metadata": {},
   "outputs": [],
   "source": [
    "table.metric=table.metric.apply(lambda x: \"Robustness or Fidelity\" if x in [\"Robustness\", \"Fidelity\"] else x)"
   ]
  },
  {
   "cell_type": "code",
   "execution_count": null,
   "id": "6b4954c0-5005-4696-b552-a4fd91277c7d",
   "metadata": {},
   "outputs": [],
   "source": [
    "table = table.rename(index=lambda x: x.replace(\"expertise\", \"exp.\").replace(\" match\", \"\"))"
   ]
  },
  {
   "cell_type": "code",
   "execution_count": null,
   "id": "d414a398-fd70-4bff-9b8f-140e079f090b",
   "metadata": {},
   "outputs": [],
   "source": [
    "fig, axes = plt.subplots(2, 1, figsize=(7, 5))\n",
    "for idx, metric in enumerate([\"Exp. Advant.\", \"Robustness or Fidelity\"]):\n",
    "    data = table[table.metric == metric]\n",
    "    ax = axes[idx]\n",
    "    ax1 = sns.stripplot(data, x=data.sort_values([\"Coef.\", \"P>|z|\"]).index, y=data.sort_values(\"Coef.\")[\"Coef.\"], ax=ax, s=5)\n",
    "    for idx, (_, row) in enumerate(data.sort_values(\"Coef.\").iterrows()):\n",
    "        ax.plot([idx, idx], [row[\"[0.025\"], row[\"0.975]\"]], 'b-_', markersize=7)\n",
    "    ax1.set_ylabel(\"\")\n",
    "    ax1.set_xlabel(\"\")\n",
    "    ax1.axhline(y=0.00,color='black',linewidth=1,linestyle='--')\n",
    "    # if idx!= 2: ax1.set_xlabel(\"\")\n",
    "    # else: ax1.set_xlabel(\"Metrics\")\n",
    "    # ax1.ticklabel_format(axis='x', style='scientific', scilimits=(0, 0))\n",
    "    # ax1.set_xlabel(\"Effect\")\n",
    "    # ax1.tick_params(axis='x', labelrotation=90)\n",
    "    ax.set_xticklabels(ax.get_xticklabels(), fontproperties=bold_font, fontsize=14)\n",
    "fig.supylabel(\"Model scale effect\", fontproperties=bold_font, fontsize=16)\n",
    "plt.subplots_adjust(wspace=0., hspace=.4, left=.12)\n",
    "# fig.delaxes(axes[0][2])"
   ]
  },
  {
   "cell_type": "code",
   "execution_count": null,
   "id": "78c7f914-9af2-45cd-b716-65c5fcbea258",
   "metadata": {},
   "outputs": [],
   "source": [
    "#fig.savefig(\"../persona_performance_paper/media/scale_coefs.pdf\", bbox_inches=\"tight\")"
   ]
  },
  {
   "cell_type": "markdown",
   "id": "01d21caa-6edd-4199-91d2-e460bca872bf",
   "metadata": {},
   "source": [
    "#### Effect of domain matchiness"
   ]
  },
  {
   "cell_type": "code",
   "execution_count": null,
   "id": "82b19a3b-5998-4d5c-be33-8c00bf543fe4",
   "metadata": {},
   "outputs": [],
   "source": [
    "levels = {\"out-expert\": 0, \"experts\": 1, \"in-expert\": 2}\n",
    "\n",
    "domain_df = all_df[all_df.persona.isin(levels.keys())].copy()\n",
    "\n",
    "domain_df.persona = domain_df.persona.apply(lambda x:  levels[x])\n",
    "\n",
    "np.unique(domain_df.persona)\n",
    "\n",
    "md = smf.mixedlm(\"score ~ persona\", domain_df, groups=domain_df[\"modelDataset\"])\n",
    "\n",
    "mdf = md.fit()\n",
    "display(mdf.summary().tables[0])\n",
    "coefs = mdf.summary().tables[1]\n",
    "coefs[\"Coef.\"] = coefs[\"Coef.\"].astype(\"float\")\n",
    "display(coefs.sort_values(\"Coef.\"))\n",
    "\n",
    "marg, cond = compute_r2(mdf, domain_df)\n",
    "\n",
    "marg, cond, marg/(1- cond + marg)"
   ]
  },
  {
   "cell_type": "markdown",
   "id": "ee7f568e-5e44-4906-8051-c60af9b00e9b",
   "metadata": {},
   "source": [
    "#### Effect of expertise-level"
   ]
  },
  {
   "cell_type": "code",
   "execution_count": null,
   "id": "23a2bbc3-a25f-459b-ab53-98a9655f27d8",
   "metadata": {},
   "outputs": [],
   "source": [
    "levels = [f\"level{i}\" for i in range(1,4)]\n",
    "\n",
    "level_df = all_df[all_df.persona.isin(levels)].copy()\n",
    "\n",
    "level_df.persona = level_df.persona.str[-1].astype(int) -1\n",
    "\n",
    "md = smf.mixedlm(\"score ~ persona\",level_df, groups=level_df[\"modelDataset\"])\n",
    "\n",
    "mdf = md.fit()\n",
    "display(mdf.summary().tables[0])\n",
    "coefs = mdf.summary().tables[1]\n",
    "coefs[\"Coef.\"] = coefs[\"Coef.\"].astype(\"float\")\n",
    "display(coefs.sort_values(\"Coef.\"))\n",
    "\n",
    "marg, cond = compute_r2(mdf, level_df)\n",
    "\n",
    "marg, cond, marg/(1- cond + marg)"
   ]
  },
  {
   "cell_type": "markdown",
   "id": "efbceecd-14af-4088-99c6-4b5f87911653",
   "metadata": {},
   "source": [
    "#### Effect of education"
   ]
  },
  {
   "cell_type": "code",
   "execution_count": null,
   "id": "bfce8d01-6738-4d61-a8c9-aff5d21b2ef3",
   "metadata": {},
   "outputs": [],
   "source": [
    "edu_df = all_df[all_df.persona.str.contains(\"educ\")].copy()\n",
    "\n",
    "edu_df.persona = edu_df.persona.apply(lambda x: EDUCATION_PERSONAS.index(x)).astype(int)\n",
    "\n",
    "md = smf.mixedlm(\"score ~ persona\",edu_df, groups=edu_df[\"modelDataset\"])\n",
    "\n",
    "mdf = md.fit()\n",
    "display(mdf.summary().tables[0])\n",
    "coefs = mdf.summary().tables[1]\n",
    "coefs[\"Coef.\"] = coefs[\"Coef.\"].astype(\"float\")\n",
    "display(coefs.sort_values(\"Coef.\"))\n",
    "\n",
    "marg, cond = compute_r2(mdf, edu_df)\n",
    "\n",
    "marg, cond, marg/(1- cond + marg)"
   ]
  },
  {
   "cell_type": "markdown",
   "id": "06530e60-ce57-4d7a-bcba-40d5b17210be",
   "metadata": {},
   "source": [
    "### Instruction"
   ]
  },
  {
   "cell_type": "code",
   "execution_count": null,
   "id": "232f1caa-1ff7-4e69-a86e-bf8d184bfc9a",
   "metadata": {},
   "outputs": [],
   "source": [
    "prefix = \"./results/instruction\""
   ]
  },
  {
   "cell_type": "code",
   "execution_count": null,
   "id": "2b1cee3a-7eaa-4c44-8664-85cbccbe5459",
   "metadata": {},
   "outputs": [],
   "source": [
    "all_pvalues = pickle.load(open(f\"{prefix}/all_pvalues.pkl\", \"rb\"))\n",
    "all_metrics = pickle.load(open(f\"{prefix}/all_metrics.pkl\", \"rb\"))\n",
    "all_results = pickle.load(open(f\"{prefix}/all_results.pkl\", \"rb\"))\n",
    "fidelity_significance = pickle.load(open(f\"{prefix}/fidelity_significances.pkl\", \"rb\"))\n",
    "fidelity_intervals = pickle.load(open(f\"{prefix}/fidelity_intervals.pkl\", \"rb\"))\n"
   ]
  },
  {
   "cell_type": "code",
   "execution_count": null,
   "id": "4435e3e2-36bc-4c3c-b52c-f00851bd4f1b",
   "metadata": {},
   "outputs": [],
   "source": [
    "fig, axes = plt.subplots(1, 4, sharex=True, sharey=True, figsize=(20,15), gridspec_kw={})\n",
    "name_mapping = {\"static\": \"Static\\n(e.g., expert in fact-checking)\", \"level1\": \"Broad\\n(e.g., expert in math)\", \"level2\": \"Focused\\n(e.g., expert in abstract algebra)\", \"level3\": \"Niche\\n(e.g., expert in group theory)\"}\n",
    "for idx, expert in enumerate([\"static\", \"level1\", \"level2\", \"level3\"]):\n",
    "    ax = axes[idx]\n",
    "    op_df = pd.DataFrame(columns=MODEL_ORDER)\n",
    "    pvalues =  pd.DataFrame(columns=MODEL_ORDER)\n",
    "    if expert==\"static\":\n",
    "        for dataset, metrics in all_results.items():\n",
    "            op_df.loc[dataset] = all_metrics[dataset].loc[\"OP\"]\n",
    "            df = all_pvalues[dataset]\n",
    "            pvalues.loc[dataset] = df.loc[\"in-expert\"]\n",
    "    else:\n",
    "        for dataset, metrics in all_results.items():\n",
    "            op_df.loc[dataset] = metrics.loc[expert] - metrics.loc[\"empty\"]\n",
    "            df = all_pvalues[dataset]\n",
    "            pvalues.loc[dataset] = df.loc[expert]\n",
    "    # op_df.loc[\"Avg.\"] = op_df.mean(0)\n",
    "    # op_df[\"Avg.\"] = op_df.mean(1)\n",
    "    # pvalues.loc[\"Avg.\"] = op_df.apply(lambda x: wilcoxon(x.values).pvalue,axis=0)\n",
    "    # pvalues[\"Avg.\"] = op_df.apply(lambda x: wilcoxon(x.values).pvalue,axis=1)\n",
    "    op_masked = op_df.mask(pvalues > .05, np.nan)\n",
    "    # op_masked = op_masked.map(lambda x: 0 if x > 0 else (-1 if x < 0 else np.nan))\n",
    "    op_masked = op_masked.rename(columns=lambda x: x.rsplit(\"-\", maxsplit=1)[0])\n",
    "    op_masked = op_masked.rename(index=lambda x: x.replace(\"contextual_parametric_\", \"\"))\n",
    "    sns.heatmap(op_masked, cmap=sns.diverging_palette(260, 30, s=100, center='light', as_cmap=True), vmin=-.1, vmax=.1,center=0, cbar=False,annot=op_df*100, fmt=\".1f\", square=True, linewidth=1, linecolor=\"gray\", ax=ax)\n",
    "    x= np.arange(op_masked.shape[1]+1)\n",
    "    y= np.arange(op_masked.shape[0]+1)\n",
    "    pvalues = pvalues.map(lambda x: x if x <0.05 else 1)\n",
    "    zm = np.ma.masked_less(pvalues.loc[op_df.index].values, 0.05)\n",
    "    ax.pcolor(x, y, zm , cmap=\"Grays_r\", alpha=.02)\n",
    "    ax.vlines([0, 3, 6, 9], *ax.get_ylim(), lw=1, color=\"black\")\n",
    "    ax.hlines([0, 1, 2, 16,20,27], *ax.get_ylim(), lw=1, color=\"black\")\n",
    "    ax.set_title(name_mapping[expert],fontproperties=bold_font,fontsize=18)\n",
    "\n",
    "    if idx//2 == 0: ax.get_xaxis().set_ticks([])\n",
    "fig.suptitle(\"Instruction\", fontproperties=bold_font, y=.93,fontsize=20)\n",
    "plt.subplots_adjust(wspace=.05, hspace=0)\n",
    "#fig.tight_layout()"
   ]
  },
  {
   "cell_type": "code",
   "execution_count": null,
   "id": "8124ac70-0546-42c1-b2ed-0249053453a6",
   "metadata": {},
   "outputs": [],
   "source": [
    "#ax.get_figure().savefig(\"../persona_performance_paper/media/expertise_inst_tasks_heatmap.pdf\", bbox_inches=\"tight\")"
   ]
  },
  {
   "cell_type": "code",
   "execution_count": null,
   "id": "c7a9fa76-ac95-4507-9f0d-7714dbb6b4b5",
   "metadata": {},
   "outputs": [],
   "source": [
    "fig, axes = plt.subplots(1, 2, sharex=True, sharey=True, figsize=(10.5,15), gridspec_kw={})\n",
    "category_mapping = {\"color\": COLOR_PERSONAS, \"name\": NAMES}\n",
    "# plt.subplots_adjust(wspace=.15, hspace=.001)\n",
    "robs_df = {}\n",
    "for idx, rob in enumerate([\"color\", \"name\"]):\n",
    "    ax = axes[idx]\n",
    "    rob_df = pd.DataFrame(columns=MODEL_ORDER)\n",
    "    pvalues =  pd.DataFrame(columns=MODEL_ORDER)\n",
    "    for dataset, metrics in all_results.items():\n",
    "        rob_df.loc[dataset] = all_metrics[dataset].loc[f\"WU_{rob}\"]\n",
    "        df = all_pvalues[dataset]\n",
    "        worst = worst_case_utility(all_results[dataset], category_mapping[rob], return_persona=True)[1]\n",
    "        for model in MODEL_ORDER:\n",
    "            pvalues.loc[dataset, model] = df.loc[worst[model], model]\n",
    "    robs_df[rob] = rob_df\n",
    "    # rob_df.loc[\"Avg.\"] = rob_df.mean(0)\n",
    "    # rob_df[\"Avg.\"] = rob_df.mean(1)\n",
    "    # pvalues.loc[\"Avg.\"] = rob_df.apply(lambda x: wilcoxon(x.values).pvalue,axis=0)\n",
    "    # pvalues[\"Avg.\"] = rob_df.apply(lambda x: wilcoxon(x.values).pvalue,axis=1)\n",
    "    rob_masked = rob_df.mask(pvalues > .05, np.nan)\n",
    "    # rob_masked = rob_masked.map(lambda x: 0 if x > 0 else (-1 if x < 0 else np.nan))\n",
    "    rob_masked = rob_masked.rename(columns=lambda x: x.rsplit(\"-\", maxsplit=1)[0])\n",
    "    rob_masked = rob_masked.rename(index=lambda x: x.replace(\"contextual_parametric_\", \"\"))\n",
    "    sns.heatmap(rob_masked,cmap=sns.diverging_palette(260, 30, s=100, center='light', as_cmap=True), vmin=-.1, vmax=.1,center=0, cbar=False,annot=rob_df*100, fmt=\".1f\", square=True, linewidth=1, linecolor=\"gray\", ax=ax)\n",
    "    x= np.arange(rob_masked.shape[1]+1)\n",
    "    y= np.arange(rob_masked.shape[0]+1)\n",
    "    pvalues = pvalues.map(lambda x: x if x <0.05 else 1)\n",
    "    zm = np.ma.masked_less(pvalues.loc[rob_df.index].values, 0.05)\n",
    "    ax.pcolor(x, y, zm , cmap=\"Grays_r\", alpha=.02)\n",
    "    ax.vlines([0, 3, 6, 9], *ax.get_ylim(), lw=1, color=\"black\")\n",
    "    ax.hlines([0, 5], *ax.get_xlim(), lw=1, color=\"black\")\n",
    "    ax.hlines([0, 1, 2, 16,20,27], *ax.get_ylim(), lw=1, color=\"black\")\n",
    "    ax.set_title(rob.capitalize(),fontproperties=bold_font,fontsize=18)\n",
    "    # if idx//2 == 0: ax.get_xaxis().set_ticks([])\n",
    "fig.suptitle(\"Instruction\", fontproperties=bold_font, y=.93,fontsize=20)\n",
    "plt.subplots_adjust(wspace=.05, hspace=0)\n",
    "#fig.tight_layout()"
   ]
  },
  {
   "cell_type": "code",
   "execution_count": null,
   "id": "322b922f-917a-4692-aa12-5d2a81b4a5e9",
   "metadata": {},
   "outputs": [],
   "source": [
    "#ax.get_figure().savefig(\"../persona_performance_paper/media/robustness_inst_tasks_heatmap.pdf\", bbox_inches=\"tight\")"
   ]
  },
  {
   "cell_type": "code",
   "execution_count": null,
   "id": "f68b8fdb-0cdf-46a6-af96-977c41cda9f0",
   "metadata": {},
   "outputs": [],
   "source": [
    "fig, axes = plt.subplots(1, 3, sharey=True, figsize=(15,15))\n",
    "category_mapping = {\"Exp. Domain\": \"Exp\", \"Exp. Specialization\": \"ExpLevel\", \"Education\": \"Ed\"}\n",
    "fid_dfs = {}\n",
    "# plt.subplots_adjust(wspace=.15, hspace=.001)\n",
    "for idx, fid in enumerate([\"Exp. Domain\", \"Exp. Specialization\", \"Education\"]):\n",
    "    ax = axes[idx]\n",
    "    fid_df = pd.DataFrame(columns=MODEL_ORDER)\n",
    "    pvalues =  pd.DataFrame(columns=MODEL_ORDER)\n",
    "    for dataset, metrics in all_results.items():\n",
    "        fid_df.loc[dataset] = all_metrics[dataset].loc[f\"Fid_{category_mapping[fid]}\"]\n",
    "        pvalues.loc[dataset] = fidelity_significance[dataset].loc[f\"Fid_{category_mapping[fid]}\"]\n",
    "    fid_dfs[fid]=fid_df\n",
    "    # fid_df.loc[\"Avg.\"] = fid_df.mean(0)\n",
    "    # fid_df[\"Avg.\"] = fid_df.mean(1)\n",
    "    # pvalues.loc[\"Avg.\"] = fid_df.apply(lambda x: wilcoxon(x.values).pvalue,axis=0)\n",
    "    # pvalues[\"Avg.\"] = fid_df.apply(lambda x: wilcoxon(x.values).pvalue,axis=1)\n",
    "    fid_masked = fid_df.mask(pvalues ==False, np.nan)\n",
    "    # rob_masked = rob_masked.map(lambda x: 0 if x > 0 else (-1 if x < 0 else np.nan))\n",
    "    fid_masked = fid_masked.rename(columns=lambda x: x.rsplit(\"-\", maxsplit=1)[0])\n",
    "    fid_masked = fid_masked.rename(index=lambda x: x.replace(\"contextual_parametric_\", \"\"))\n",
    "    sns.heatmap(fid_masked,cmap=sns.diverging_palette(260, 30, s=100, center='light', as_cmap=True),center=0, cbar=False,annot=fid_df*100, fmt=\".0f\", square=True, linewidth=1, linecolor=\"gray\", ax=ax)\n",
    "    x= np.arange(rob_masked.shape[1]+1)\n",
    "    y= np.arange(rob_masked.shape[0]+1)\n",
    "    pvalues = pvalues.map(lambda x: x if x <0.05 else 1)\n",
    "    zm = np.ma.masked_less(pvalues.loc[fid_df.index].values, 0.05)\n",
    "    ax.vlines([0, 3, 6, 9], *ax.get_ylim(), lw=1, color=\"black\")\n",
    "    ax.hlines([0, 1, 2, 16,20,27], *ax.get_ylim(), lw=1, color=\"black\")\n",
    "    ax.set_title(fid.capitalize(), fontproperties=bold_font, fontsize=18)\n",
    "    # if idx//2 == 0: ax.get_xaxis().set_ticks([])\n",
    "fig.suptitle(\"Instruction\", fontproperties=bold_font, fontsize=20,y=.93)\n",
    "plt.subplots_adjust(wspace=.05, hspace=0)\n",
    "#fig.tight_layout()"
   ]
  },
  {
   "cell_type": "code",
   "execution_count": null,
   "id": "6d968d9d-eadd-4699-9716-426facd96740",
   "metadata": {},
   "outputs": [],
   "source": [
    "#ax.get_figure().savefig(\"../persona_performance_paper/media/fidelity_inst_tasks_heatmap.pdf\", bbox_inches=\"tight\")"
   ]
  },
  {
   "cell_type": "code",
   "execution_count": null,
   "id": "8bb6efb2-0ec4-4d5b-a3af-795c1194b870",
   "metadata": {},
   "outputs": [],
   "source": [
    "all_df = pd.DataFrame()\n",
    "for k, v in all_results.items():\n",
    "    df = v.copy()\n",
    "    # df = df[[x for x in MODEL_ORDER if x != \"Llama-3.2-3B-Instruct\"]]\n",
    "    df = df.stack().reset_index()\n",
    "    df.columns = [\"persona\", \"model\", \"score\"]\n",
    "    df = df[df.persona.isin(EDUCATION_PERSONAS + COLOR_PERSONAS + NAMES + [\"empty\", \"in-expert\", \"experts\", \"out-expert\", \"level1\", \"level2\", \"level3\" ])]\n",
    "    df[\"dataset\"] = k\n",
    "    all_df = pd.concat([all_df, df], axis=0)"
   ]
  },
  {
   "cell_type": "code",
   "execution_count": null,
   "id": "37b42336-8f78-440d-8173-3c539c2f4f31",
   "metadata": {},
   "outputs": [],
   "source": [
    "all_df[\"modelDataset\"] = all_df[\"model\"] + all_df[\"dataset\"].astype(str)"
   ]
  },
  {
   "cell_type": "code",
   "execution_count": null,
   "id": "f58f77b9-19a8-4a01-97ed-522513141592",
   "metadata": {},
   "outputs": [],
   "source": [
    "cats = []\n",
    "for p in all_df.persona.tolist():\n",
    "    if p in COLOR_PERSONAS: cats.append(\"color\")\n",
    "    elif p in NAMES: cats.append(\"name\")\n",
    "    # elif p in EDUCATION_PERSONAS: cats.append(\"education\")\n",
    "    else: cats.append(p)"
   ]
  },
  {
   "cell_type": "code",
   "execution_count": null,
   "id": "063875f8-1693-4ae7-9a78-1d11f791213a",
   "metadata": {},
   "outputs": [],
   "source": [
    "all_df[\"category\"] = cats"
   ]
  },
  {
   "cell_type": "code",
   "execution_count": null,
   "id": "d6304ba0-38db-4490-8cdc-ac26164b7844",
   "metadata": {},
   "outputs": [],
   "source": [
    "md = smf.mixedlm(\"score ~ C(category, Treatment(reference='empty'))\", all_df, groups=all_df[\"modelDataset\"])"
   ]
  },
  {
   "cell_type": "code",
   "execution_count": null,
   "id": "baa6c4db-5762-4e2a-b10e-fed0a0e5cbfb",
   "metadata": {},
   "outputs": [],
   "source": [
    "mdf = md.fit()\n",
    "display(mdf.summary().tables[0])\n",
    "coefs = mdf.summary().tables[1]\n",
    "coefs[\"Coef.\"] = coefs[\"Coef.\"].astype(\"float\")\n",
    "display(coefs.sort_values(\"Coef.\"))"
   ]
  },
  {
   "cell_type": "code",
   "execution_count": null,
   "id": "6d4a6c29-e52d-45e3-a1c8-62554eb7896d",
   "metadata": {},
   "outputs": [],
   "source": [
    "table = mdf.summary().tables[1]"
   ]
  },
  {
   "cell_type": "code",
   "execution_count": null,
   "id": "abe0ee1e-5121-405f-9807-5105d8da9d6c",
   "metadata": {},
   "outputs": [],
   "source": [
    "table = table.loc[[x for x in table.index if \"reference\" in x]].astype(\"float\")"
   ]
  },
  {
   "cell_type": "code",
   "execution_count": null,
   "id": "583cc817-d2ed-4d43-b8b0-320c10bdcb7f",
   "metadata": {},
   "outputs": [],
   "source": [
    "ax = plot_errorbars(table, (6,4))"
   ]
  },
  {
   "cell_type": "code",
   "execution_count": null,
   "id": "a7f934ed-4c87-4114-8ea7-8cb38d981c59",
   "metadata": {},
   "outputs": [],
   "source": [
    "marg, cond = compute_r2(mdf, all_df)"
   ]
  },
  {
   "cell_type": "code",
   "execution_count": null,
   "id": "3102e989-5ba6-4d3b-9040-965b3d71bb54",
   "metadata": {},
   "outputs": [],
   "source": [
    "marg, cond, marg/(1- cond + marg)"
   ]
  },
  {
   "cell_type": "code",
   "execution_count": null,
   "id": "7a45d14d-8145-4c72-a376-e7caef8b3392",
   "metadata": {},
   "outputs": [],
   "source": [
    "large_only = all_df[all_df.model.isin([MODEL_ORDER[5], MODEL_ORDER[-1]])]"
   ]
  },
  {
   "cell_type": "code",
   "execution_count": null,
   "id": "833feeac-3b63-4520-8b1c-60529e99d735",
   "metadata": {},
   "outputs": [],
   "source": [
    "md = smf.mixedlm(\"score ~ C(category, Treatment(reference='empty'))\", large_only, groups=large_only[\"modelDataset\"])"
   ]
  },
  {
   "cell_type": "code",
   "execution_count": null,
   "id": "0dd31c2b-4142-4213-93ea-cceb712164e5",
   "metadata": {},
   "outputs": [],
   "source": [
    "mdf = md.fit()\n",
    "display(mdf.summary().tables[0])\n",
    "coefs = mdf.summary().tables[1]\n",
    "coefs[\"Coef.\"] = coefs[\"Coef.\"].astype(\"float\")\n",
    "display(coefs.sort_values(\"Coef.\"))"
   ]
  },
  {
   "cell_type": "code",
   "execution_count": null,
   "id": "b3b991fa-9120-47cc-a23d-677882bac0b1",
   "metadata": {},
   "outputs": [],
   "source": [
    "table = mdf.summary().tables[1]\n",
    "table = table.loc[[x for x in table.index if \"reference\" in x]].astype(\"float\")"
   ]
  },
  {
   "cell_type": "code",
   "execution_count": null,
   "id": "78c2d702-7b32-4998-ae98-5985212123b0",
   "metadata": {},
   "outputs": [],
   "source": [
    "ax = plot_errorbars(table, (6,4))"
   ]
  },
  {
   "cell_type": "markdown",
   "id": "534fc4ce-f38e-49e5-9ab8-302e84dfe405",
   "metadata": {},
   "source": [
    "#### Scale effect on OP"
   ]
  },
  {
   "cell_type": "code",
   "execution_count": null,
   "id": "0e3d061a-a9d4-48ef-a80f-e85e94bac4a0",
   "metadata": {},
   "outputs": [],
   "source": [
    "sizes =  [1, 2, 3, 1, 2, 4, 1, 2, 4]\n",
    "size_map = {k:v  for v, k in zip(sizes, MODEL_ORDER)}"
   ]
  },
  {
   "cell_type": "code",
   "execution_count": null,
   "id": "dd488d28-88e2-49ba-83f4-979ca3f687ab",
   "metadata": {},
   "outputs": [],
   "source": [
    "all_df[\"size\"] = all_df.model.apply(lambda x: size_map[x]).astype(\"int\")"
   ]
  },
  {
   "cell_type": "code",
   "execution_count": null,
   "id": "185b151f-702f-4871-8153-9972a7694b41",
   "metadata": {},
   "outputs": [],
   "source": [
    "families = [\"gemma\", \"llama\", \"qwen\"]"
   ]
  },
  {
   "cell_type": "code",
   "execution_count": null,
   "id": "c0e12be8-dd43-4168-81c8-47af2937a27d",
   "metadata": {},
   "outputs": [],
   "source": [
    "all_df[\"family\"] = all_df.model.apply(lambda x: families[MODEL_ORDER.index(x) // 3])"
   ]
  },
  {
   "cell_type": "code",
   "execution_count": null,
   "id": "8cebebde-ccea-4fa5-a4a0-5329a80fdf93",
   "metadata": {},
   "outputs": [],
   "source": [
    "all_df[\"familyDataset\"] = all_df[\"family\"] + all_df[\"dataset\"].astype(str)"
   ]
  },
  {
   "cell_type": "code",
   "execution_count": null,
   "id": "e93da6ad-f702-4aae-a47f-6739de39c5ad",
   "metadata": {},
   "outputs": [],
   "source": [
    "expert_df = all_df[all_df[\"persona\"].isin([\"in-expert\", \"empty\"])]"
   ]
  },
  {
   "cell_type": "code",
   "execution_count": null,
   "id": "c662068a-0578-4b66-b197-f272f5eb873f",
   "metadata": {},
   "outputs": [],
   "source": [
    "over_df = expert_df[expert_df[\"persona\"] == \"in-expert\"].copy()"
   ]
  },
  {
   "cell_type": "code",
   "execution_count": null,
   "id": "dbd59c70-a3d5-4aee-b405-0117d53f68b7",
   "metadata": {},
   "outputs": [],
   "source": [
    "over_df.score = expert_df[expert_df[\"persona\"] == \"in-expert\"].score-  expert_df[expert_df[\"persona\"] == \"empty\"].score.values"
   ]
  },
  {
   "cell_type": "code",
   "execution_count": null,
   "id": "d1831dca-5a26-43ff-af9f-c66d185a355e",
   "metadata": {},
   "outputs": [],
   "source": [
    "md = smf.mixedlm(\"score ~ size\", over_df, groups=over_df[\"familyDataset\"])"
   ]
  },
  {
   "cell_type": "code",
   "execution_count": null,
   "id": "45381b22-a628-4934-9ca3-37cca081c9cb",
   "metadata": {},
   "outputs": [],
   "source": [
    "mdf = md.fit()\n",
    "display(mdf.summary().tables[0])\n",
    "coefs = mdf.summary().tables[1]\n",
    "coefs[\"Coef.\"] = coefs[\"Coef.\"].astype(\"float\")\n",
    "display(coefs.sort_values(\"Coef.\"))"
   ]
  },
  {
   "cell_type": "markdown",
   "id": "08845492-1355-495a-869e-11699b931b50",
   "metadata": {},
   "source": [
    "#### Scale effect on Robustness (color)"
   ]
  },
  {
   "cell_type": "code",
   "execution_count": null,
   "id": "1f5f0d85-5b97-4996-b6da-1b7926cce5f8",
   "metadata": {},
   "outputs": [],
   "source": [
    "color_rob = all_df.drop_duplicates(\"modelDataset\")\n",
    "\n",
    "color_rob.loc[:,\"score\"] = [robs_df[\"color\"].loc[row[\"dataset\"], row[\"model\"]] for _, row  in color_rob.iterrows()]\n",
    "\n",
    "md = smf.mixedlm(\"score ~ size\", color_rob, groups=color_rob[\"familyDataset\"])\n",
    "\n",
    "mdf = md.fit()\n",
    "display(mdf.summary().tables[0])\n",
    "coefs = mdf.summary().tables[1]\n",
    "coefs[\"Coef.\"] = coefs[\"Coef.\"].astype(\"float\")\n",
    "display(coefs.sort_values(\"Coef.\"))\n",
    "\n",
    "marg, cond = compute_r2(mdf, all_df)\n",
    "\n",
    "marg, cond, marg/(1- cond + marg)"
   ]
  },
  {
   "cell_type": "markdown",
   "id": "411f535a-4611-46d7-808a-70d3bf466df6",
   "metadata": {},
   "source": [
    "#### Scale effect on Robustness (name)"
   ]
  },
  {
   "cell_type": "code",
   "execution_count": null,
   "id": "89b77f88-0d55-45fe-a681-0753ced3da5f",
   "metadata": {},
   "outputs": [],
   "source": [
    "name_rob = all_df.drop_duplicates(\"modelDataset\")\n",
    "\n",
    "name_rob.loc[:,\"score\"] = [robs_df[\"name\"].loc[row[\"dataset\"], row[\"model\"]] for _, row  in name_rob.iterrows()]\n",
    "\n",
    "md = smf.mixedlm(\"score ~ size\", name_rob, groups=name_rob[\"familyDataset\"])\n",
    "\n",
    "mdf = md.fit()\n",
    "display(mdf.summary().tables[0])\n",
    "coefs = mdf.summary().tables[1]\n",
    "coefs[\"Coef.\"] = coefs[\"Coef.\"].astype(\"float\")\n",
    "display(coefs.sort_values(\"Coef.\"))\n",
    "\n",
    "marg, cond = compute_r2(mdf, all_df)\n",
    "\n",
    "marg, cond, marg/(1- cond + marg)"
   ]
  },
  {
   "cell_type": "markdown",
   "id": "0a2dea8e-e844-4184-a7f2-467bca92ecc4",
   "metadata": {},
   "source": [
    "#### Scale effect on Fidelity (education)"
   ]
  },
  {
   "cell_type": "code",
   "execution_count": null,
   "id": "b24223f6-c5a3-48d7-80db-dd3dc34faba3",
   "metadata": {},
   "outputs": [],
   "source": [
    "education_fid = all_df.drop_duplicates(\"modelDataset\")\n",
    "\n",
    "education_fid.loc[:,\"score\"] = [fid_dfs[\"Education\"].loc[row[\"dataset\"], row[\"model\"]] for _, row  in education_fid.iterrows()]\n",
    "\n",
    "md = smf.mixedlm(\"score ~ size\", education_fid, groups=education_fid[\"familyDataset\"])\n",
    "\n",
    "mdf = md.fit()\n",
    "display(mdf.summary().tables[0])\n",
    "coefs = mdf.summary().tables[1]\n",
    "coefs[\"Coef.\"] = coefs[\"Coef.\"].astype(\"float\")\n",
    "display(coefs.sort_values(\"Coef.\"))\n",
    "\n",
    "marg, cond = compute_r2(mdf, all_df)\n",
    "\n",
    "marg, cond, marg/(1- cond + marg)"
   ]
  },
  {
   "cell_type": "markdown",
   "id": "003996cf-9352-4423-8f0a-0f65bb9eed50",
   "metadata": {},
   "source": [
    "#### Scale effect on Fidelity (expertise)"
   ]
  },
  {
   "cell_type": "code",
   "execution_count": null,
   "id": "cb94e68e-cbb6-4b53-bdec-e735a9796c51",
   "metadata": {},
   "outputs": [],
   "source": [
    "expert_fid = all_df.drop_duplicates(\"modelDataset\")\n",
    "\n",
    "expert_fid.loc[:,\"score\"] = [fid_dfs[\"Exp. Domain\"].loc[row[\"dataset\"], row[\"model\"]] for _, row  in expert_fid.iterrows()]\n",
    "\n",
    "md = smf.mixedlm(\"score ~ size\", expert_fid, groups=expert_fid[\"familyDataset\"])\n",
    "\n",
    "mdf = md.fit()\n",
    "display(mdf.summary().tables[0])\n",
    "coefs = mdf.summary().tables[1]\n",
    "coefs[\"Coef.\"] = coefs[\"Coef.\"].astype(\"float\")\n",
    "display(coefs.sort_values(\"Coef.\"))\n",
    "\n",
    "marg, cond = compute_r2(mdf, all_df)\n",
    "\n",
    "marg, cond, marg/(1- cond + marg)"
   ]
  },
  {
   "cell_type": "markdown",
   "id": "8768a713-fb25-4201-a1fb-78c49e4affa0",
   "metadata": {},
   "source": [
    "#### Scale effect on Fidelity (expertise level)"
   ]
  },
  {
   "cell_type": "code",
   "execution_count": null,
   "id": "99ba0048-993a-4839-b5f0-42b741ab39b8",
   "metadata": {},
   "outputs": [],
   "source": [
    "expert_level_fid = all_df.drop_duplicates(\"modelDataset\")\n",
    "\n",
    "expert_level_fid.loc[:,\"score\"] = [fid_dfs[\"Exp. Specialization\"].loc[row[\"dataset\"], row[\"model\"]] for _, row  in expert_level_fid.iterrows()]\n",
    "\n",
    "md = smf.mixedlm(\"score ~ 0+size\", expert_level_fid, groups=expert_level_fid[\"familyDataset\"])\n",
    "\n",
    "mdf = md.fit()\n",
    "display(mdf.summary().tables[0])\n",
    "coefs = mdf.summary().tables[1]\n",
    "coefs[\"Coef.\"] = coefs[\"Coef.\"].astype(\"float\")\n",
    "display(coefs.sort_values(\"Coef.\"))\n",
    "\n",
    "marg, cond = compute_r2(mdf, all_df)\n",
    "\n",
    "marg, cond, marg/(1- cond + marg)"
   ]
  },
  {
   "cell_type": "markdown",
   "id": "6c857224-f5ed-467f-a065-b83dad3cc4ea",
   "metadata": {},
   "source": [
    "#### Effect of domain matchiness"
   ]
  },
  {
   "cell_type": "code",
   "execution_count": null,
   "id": "703f2d20-58f2-42e7-972d-a10dd1575852",
   "metadata": {},
   "outputs": [],
   "source": [
    "levels = {\"out-expert\": 1, \"experts\": 2, \"in-expert\": 3}\n",
    "\n",
    "domain_df = all_df[all_df.persona.isin(levels.keys())].copy()\n",
    "\n",
    "domain_df.persona = domain_df.persona.apply(lambda x:  levels[x])\n",
    "\n",
    "np.unique(domain_df.persona)\n",
    "\n",
    "md = smf.mixedlm(\"score ~ 0 + persona\", domain_df, groups=domain_df[\"modelDataset\"])\n",
    "\n",
    "mdf = md.fit()\n",
    "display(mdf.summary().tables[0])\n",
    "coefs = mdf.summary().tables[1]\n",
    "coefs[\"Coef.\"] = coefs[\"Coef.\"].astype(\"float\")\n",
    "display(coefs.sort_values(\"Coef.\"))\n",
    "\n",
    "marg, cond = compute_r2(mdf, domain_df)\n",
    "\n",
    "marg, cond, marg/(1- cond + marg)"
   ]
  },
  {
   "cell_type": "markdown",
   "id": "f1ce824d-2e0a-41d2-8de5-465e5370b6b3",
   "metadata": {},
   "source": [
    "#### Effect of expertise-level"
   ]
  },
  {
   "cell_type": "code",
   "execution_count": null,
   "id": "975b11c3-1251-4785-8fa4-4d0c654157a0",
   "metadata": {},
   "outputs": [],
   "source": [
    "levels = [f\"level{i}\" for i in range(1,4)]\n",
    "\n",
    "level_df = all_df[all_df.persona.isin(levels)].copy()\n",
    "\n",
    "level_df.persona = level_df.persona.str[-1].astype(int)\n",
    "\n",
    "md = smf.mixedlm(\"score ~ 0+persona\",level_df, groups=level_df[\"modelDataset\"])\n",
    "\n",
    "mdf = md.fit()\n",
    "display(mdf.summary().tables[0])\n",
    "coefs = mdf.summary().tables[1]\n",
    "coefs[\"Coef.\"] = coefs[\"Coef.\"].astype(\"float\")\n",
    "display(coefs.sort_values(\"Coef.\"))\n",
    "\n",
    "marg, cond = compute_r2(mdf, level_df)\n",
    "\n",
    "marg, cond, marg/(1- cond + marg)"
   ]
  },
  {
   "cell_type": "markdown",
   "id": "c50de1de-2a28-407d-88fa-d3c8c81105cf",
   "metadata": {},
   "source": [
    "#### Effect of education"
   ]
  },
  {
   "cell_type": "code",
   "execution_count": null,
   "id": "c9066251-72d0-4436-af38-450e6275e875",
   "metadata": {},
   "outputs": [],
   "source": [
    "edu_df = all_df[all_df.persona.str.contains(\"educ\")].copy()\n",
    "\n",
    "edu_df.persona = edu_df.persona.apply(lambda x: EDUCATION_PERSONAS.index(x)+1).astype(int)\n",
    "\n",
    "md = smf.mixedlm(\"score ~ 0 + persona\",edu_df, groups=edu_df[\"modelDataset\"])\n",
    "\n",
    "mdf = md.fit()\n",
    "display(mdf.summary().tables[0])\n",
    "coefs = mdf.summary().tables[1]\n",
    "coefs[\"Coef.\"] = coefs[\"Coef.\"].astype(\"float\")\n",
    "display(coefs.sort_values(\"Coef.\"))\n",
    "\n",
    "marg, cond = compute_r2(mdf, edu_df)\n",
    "\n",
    "marg, cond, marg/(1- cond + marg)"
   ]
  },
  {
   "cell_type": "markdown",
   "id": "595a6772-0678-49ec-93da-f6c09d813d50",
   "metadata": {},
   "source": [
    "### Refine"
   ]
  },
  {
   "cell_type": "code",
   "execution_count": null,
   "id": "a5096f0a-ad43-46e6-81c4-90ef90ce4e94",
   "metadata": {},
   "outputs": [],
   "source": [
    "prefix = \"./results/refine\""
   ]
  },
  {
   "cell_type": "code",
   "execution_count": null,
   "id": "14b58df6-f094-436d-b799-bc4f85f1ceea",
   "metadata": {},
   "outputs": [],
   "source": [
    "all_pvalues = pickle.load(open(f\"{prefix}/all_pvalues.pkl\", \"rb\"))\n",
    "all_metrics = pickle.load(open(f\"{prefix}/all_metrics.pkl\", \"rb\"))\n",
    "all_results = pickle.load(open(f\"{prefix}/all_results.pkl\", \"rb\"))\n",
    "fidelity_significance = pickle.load(open(f\"{prefix}/fidelity_significances.pkl\", \"rb\"))\n",
    "fidelity_intervals = pickle.load(open(f\"{prefix}/fidelity_intervals.pkl\", \"rb\"))\n"
   ]
  },
  {
   "cell_type": "code",
   "execution_count": null,
   "id": "75cb03ba-5625-4cdd-a33f-4bf17d074c10",
   "metadata": {},
   "outputs": [],
   "source": [
    "fig, axes = plt.subplots(1, 4, sharex=True, sharey=True, figsize=(20,15), gridspec_kw={})\n",
    "name_mapping = {\"static\": \"Static\\n(e.g., expert in fact-checking)\", \"level1\": \"Broad\\n(e.g., expert in math)\", \"level2\": \"Focused\\n(e.g., expert in abstract algebra)\", \"level3\": \"Niche\\n(e.g., expert in group theory)\"}\n",
    "for idx, expert in enumerate([\"static\", \"level1\", \"level2\", \"level3\"]):\n",
    "    ax = axes[idx]\n",
    "    op_df = pd.DataFrame(columns=MODEL_ORDER)\n",
    "    pvalues =  pd.DataFrame(columns=MODEL_ORDER)\n",
    "    if expert==\"static\":\n",
    "        for dataset, metrics in all_results.items():\n",
    "            op_df.loc[dataset] = all_metrics[dataset].loc[\"OP\"]\n",
    "            df = all_pvalues[dataset]\n",
    "            pvalues.loc[dataset] = df.loc[\"in-expert\"]\n",
    "    else:\n",
    "        for dataset, metrics in all_results.items():\n",
    "            op_df.loc[dataset] = metrics.loc[expert] - metrics.loc[\"empty\"]\n",
    "            df = all_pvalues[dataset]\n",
    "            pvalues.loc[dataset] = df.loc[expert]\n",
    "    # op_df.loc[\"Avg.\"] = op_df.mean(0)\n",
    "    # op_df[\"Avg.\"] = op_df.mean(1)\n",
    "    # pvalues.loc[\"Avg.\"] = op_df.apply(lambda x: wilcoxon(x.values).pvalue,axis=0)\n",
    "    # pvalues[\"Avg.\"] = op_df.apply(lambda x: wilcoxon(x.values).pvalue,axis=1)\n",
    "    op_masked = op_df.mask(pvalues > .05, np.nan)\n",
    "    # op_masked = op_masked.map(lambda x: 0 if x > 0 else (-1 if x < 0 else np.nan))\n",
    "    op_masked = op_masked.rename(columns=lambda x: x.rsplit(\"-\", maxsplit=1)[0])\n",
    "    op_masked = op_masked.rename(index=lambda x: x.replace(\"contextual_parametric_\", \"\"))\n",
    "    sns.heatmap(op_masked, cmap=sns.diverging_palette(260, 30, s=100, center='light', as_cmap=True), vmin=-.1, vmax=.1,center=0, cbar=False,annot=op_df*100, fmt=\".1f\", square=True, linewidth=1, linecolor=\"gray\", ax=ax)\n",
    "    x= np.arange(op_masked.shape[1]+1)\n",
    "    y= np.arange(op_masked.shape[0]+1)\n",
    "    pvalues = pvalues.map(lambda x: x if x <0.05 else 1)\n",
    "    zm = np.ma.masked_less(pvalues.loc[op_df.index].values, 0.05)\n",
    "    ax.pcolor(x, y, zm , cmap=\"Grays_r\", alpha=.02)\n",
    "    ax.vlines([0, 3, 6, 9], *ax.get_ylim(), lw=1, color=\"black\")\n",
    "    ax.hlines([0, 1, 2, 16,20,27], *ax.get_ylim(), lw=1, color=\"black\")\n",
    "    ax.set_title(name_mapping[expert],fontproperties=bold_font,fontsize=18)\n",
    "\n",
    "    if idx//2 == 0: ax.get_xaxis().set_ticks([])\n",
    "fig.suptitle(\"Refine + Instruction\", fontproperties=bold_font, y=.93,fontsize=20)\n",
    "plt.subplots_adjust(wspace=.05, hspace=0)\n",
    "#fig.tight_layout()"
   ]
  },
  {
   "cell_type": "code",
   "execution_count": null,
   "id": "1a69f9c8-38eb-4e5c-ab68-3c49b2e0333f",
   "metadata": {},
   "outputs": [],
   "source": [
    "#ax.get_figure().savefig(\"../persona_performance_paper/media/expertise_refine_tasks_heatmap.pdf\", bbox_inches=\"tight\")"
   ]
  },
  {
   "cell_type": "code",
   "execution_count": null,
   "id": "84a9c545-d1ba-439d-af70-020bbc82d76d",
   "metadata": {},
   "outputs": [],
   "source": [
    "fig, axes = plt.subplots(1, 2, sharex=True, sharey=True, figsize=(10.5,15), gridspec_kw={})\n",
    "category_mapping = {\"color\": COLOR_PERSONAS, \"name\": NAMES}\n",
    "# plt.subplots_adjust(wspace=.15, hspace=.001)\n",
    "robs_df = {}\n",
    "for idx, rob in enumerate([\"color\", \"name\"]):\n",
    "    ax = axes[idx]\n",
    "    rob_df = pd.DataFrame(columns=MODEL_ORDER)\n",
    "    pvalues =  pd.DataFrame(columns=MODEL_ORDER)\n",
    "    for dataset, metrics in all_results.items():\n",
    "        rob_df.loc[dataset] = all_metrics[dataset].loc[f\"WU_{rob}\"]\n",
    "        df = all_pvalues[dataset]\n",
    "        worst = worst_case_utility(all_results[dataset], category_mapping[rob], return_persona=True)[1]\n",
    "        for model in MODEL_ORDER:\n",
    "            pvalues.loc[dataset, model] = df.loc[worst[model], model]\n",
    "    robs_df[rob] = rob_df\n",
    "    # rob_df.loc[\"Avg.\"] = rob_df.mean(0)\n",
    "    # rob_df[\"Avg.\"] = rob_df.mean(1)\n",
    "    # pvalues.loc[\"Avg.\"] = rob_df.apply(lambda x: wilcoxon(x.values).pvalue,axis=0)\n",
    "    # pvalues[\"Avg.\"] = rob_df.apply(lambda x: wilcoxon(x.values).pvalue,axis=1)\n",
    "    rob_masked = rob_df.mask(pvalues > .05, np.nan)\n",
    "    # rob_masked = rob_masked.map(lambda x: 0 if x > 0 else (-1 if x < 0 else np.nan))\n",
    "    rob_masked = rob_masked.rename(columns=lambda x: x.rsplit(\"-\", maxsplit=1)[0])\n",
    "    rob_masked = rob_masked.rename(index=lambda x: x.replace(\"contextual_parametric_\", \"\"))\n",
    "    sns.heatmap(rob_masked,cmap=sns.diverging_palette(260, 30, s=100, center='light', as_cmap=True), vmin=-.1, vmax=.1,center=0, cbar=False,annot=rob_df*100, fmt=\".1f\", square=True, linewidth=1, linecolor=\"gray\", ax=ax)\n",
    "    x= np.arange(rob_masked.shape[1]+1)\n",
    "    y= np.arange(rob_masked.shape[0]+1)\n",
    "    pvalues = pvalues.map(lambda x: x if x <0.05 else 1)\n",
    "    zm = np.ma.masked_less(pvalues.loc[rob_df.index].values, 0.05)\n",
    "    ax.pcolor(x, y, zm , cmap=\"Grays_r\", alpha=.02)\n",
    "    ax.vlines([0, 3, 6, 9], *ax.get_ylim(), lw=1, color=\"black\")\n",
    "    ax.hlines([0, 5], *ax.get_xlim(), lw=1, color=\"black\")\n",
    "    ax.hlines([0, 1, 2, 16,20,27], *ax.get_ylim(), lw=1, color=\"black\")\n",
    "    ax.set_title(rob.capitalize(),fontproperties=bold_font,fontsize=18)\n",
    "    # if idx//2 == 0: ax.get_xaxis().set_ticks([])\n",
    "fig.suptitle(\"Refine + Instruction\", fontproperties=bold_font, y=.93,fontsize=20)\n",
    "plt.subplots_adjust(wspace=.05, hspace=0)\n",
    "#fig.tight_layout()"
   ]
  },
  {
   "cell_type": "code",
   "execution_count": null,
   "id": "da5fb2c8-0ad9-4cd4-9a86-65343dd2d041",
   "metadata": {},
   "outputs": [],
   "source": [
    "#ax.get_figure().savefig(\"../persona_performance_paper/media/robustness_refine_tasks_heatmap.pdf\", bbox_inches=\"tight\")"
   ]
  },
  {
   "cell_type": "code",
   "execution_count": null,
   "id": "691c74c5-4305-4410-98d1-2a40637b9a94",
   "metadata": {},
   "outputs": [],
   "source": [
    "fig, axes = plt.subplots(1, 3, sharey=True, figsize=(15,15))\n",
    "category_mapping = {\"Exp. Domain\": \"Exp\", \"Exp. Specialization\": \"ExpLevel\", \"Education\": \"Ed\"}\n",
    "fid_dfs = {}\n",
    "# plt.subplots_adjust(wspace=.15, hspace=.001)\n",
    "for idx, fid in enumerate([\"Exp. Domain\", \"Exp. Specialization\", \"Education\"]):\n",
    "    ax = axes[idx]\n",
    "    fid_df = pd.DataFrame(columns=MODEL_ORDER)\n",
    "    pvalues =  pd.DataFrame(columns=MODEL_ORDER)\n",
    "    for dataset, metrics in all_results.items():\n",
    "        fid_df.loc[dataset] = all_metrics[dataset].loc[f\"Fid_{category_mapping[fid]}\"]\n",
    "        pvalues.loc[dataset] = fidelity_significance[dataset].loc[f\"Fid_{category_mapping[fid]}\"]\n",
    "    fid_dfs[fid]=fid_df\n",
    "    # fid_df.loc[\"Avg.\"] = fid_df.mean(0)\n",
    "    # fid_df[\"Avg.\"] = fid_df.mean(1)\n",
    "    # pvalues.loc[\"Avg.\"] = fid_df.apply(lambda x: wilcoxon(x.values).pvalue,axis=0)\n",
    "    # pvalues[\"Avg.\"] = fid_df.apply(lambda x: wilcoxon(x.values).pvalue,axis=1)\n",
    "    fid_masked = fid_df.mask(pvalues ==False, np.nan)\n",
    "    # rob_masked = rob_masked.map(lambda x: 0 if x > 0 else (-1 if x < 0 else np.nan))\n",
    "    fid_masked = fid_masked.rename(columns=lambda x: x.rsplit(\"-\", maxsplit=1)[0])\n",
    "    fid_masked = fid_masked.rename(index=lambda x: x.replace(\"contextual_parametric_\", \"\"))\n",
    "    sns.heatmap(fid_masked,cmap=sns.diverging_palette(260, 30, s=100, center='light', as_cmap=True),center=0, cbar=False,annot=fid_df*100, fmt=\".0f\", square=True, linewidth=1, linecolor=\"gray\", ax=ax)\n",
    "    x= np.arange(rob_masked.shape[1]+1)\n",
    "    y= np.arange(rob_masked.shape[0]+1)\n",
    "    pvalues = pvalues.map(lambda x: x if x <0.05 else 1)\n",
    "    zm = np.ma.masked_less(pvalues.loc[fid_df.index].values, 0.05)\n",
    "    ax.vlines([0, 3, 6, 9], *ax.get_ylim(), lw=1, color=\"black\")\n",
    "    ax.hlines([0, 1, 2, 16,20,27], *ax.get_ylim(), lw=1, color=\"black\")\n",
    "    ax.set_title(fid.capitalize(), fontproperties=bold_font, fontsize=18)\n",
    "    # if idx//2 == 0: ax.get_xaxis().set_ticks([])\n",
    "fig.suptitle(\"Refine + Instruction\", fontproperties=bold_font, fontsize=20,y=.93)\n",
    "plt.subplots_adjust(wspace=.05, hspace=0)\n",
    "#fig.tight_layout()"
   ]
  },
  {
   "cell_type": "code",
   "execution_count": null,
   "id": "c24fe971-aa22-4439-a5ed-b656b0f85558",
   "metadata": {},
   "outputs": [],
   "source": [
    "#ax.get_figure().savefig(\"../persona_performance_paper/media/fidelity_refine_tasks_heatmap.pdf\", bbox_inches=\"tight\")"
   ]
  },
  {
   "cell_type": "code",
   "execution_count": null,
   "id": "b9f9cbdf-e433-4db1-b33f-8ebc6f97986b",
   "metadata": {},
   "outputs": [],
   "source": [
    "all_df = pd.DataFrame()\n",
    "for k, v in all_results.items():\n",
    "    df = v.copy()\n",
    "    # df = df[[x for x in MODEL_ORDER if x != \"Llama-3.2-3B-Instruct\"]]\n",
    "    df = df.stack().reset_index()\n",
    "    df.columns = [\"persona\", \"model\", \"score\"]\n",
    "    df = df[df.persona.isin(EDUCATION_PERSONAS + COLOR_PERSONAS + NAMES + [\"empty\", \"in-expert\", \"experts\", \"out-expert\", \"level1\", \"level2\", \"level3\" ])]\n",
    "    df[\"dataset\"] = k\n",
    "    all_df = pd.concat([all_df, df], axis=0)"
   ]
  },
  {
   "cell_type": "code",
   "execution_count": null,
   "id": "e7818df3-fac6-46dc-9b0e-76b3754a5587",
   "metadata": {},
   "outputs": [],
   "source": [
    "all_df[\"modelDataset\"] = all_df[\"model\"] + all_df[\"dataset\"].astype(str)"
   ]
  },
  {
   "cell_type": "code",
   "execution_count": null,
   "id": "f4a78202-b767-420f-baf6-a0a6a2158a32",
   "metadata": {},
   "outputs": [],
   "source": [
    "cats = []\n",
    "for p in all_df.persona.tolist():\n",
    "    if p in COLOR_PERSONAS: cats.append(\"color\")\n",
    "    elif p in NAMES: cats.append(\"name\")\n",
    "    # elif p in EDUCATION_PERSONAS: cats.append(\"education\")\n",
    "    else: cats.append(p)"
   ]
  },
  {
   "cell_type": "code",
   "execution_count": null,
   "id": "d51cc374-b3cd-4dc6-a84b-bef7bd21aa07",
   "metadata": {},
   "outputs": [],
   "source": [
    "all_df[\"category\"] = cats"
   ]
  },
  {
   "cell_type": "code",
   "execution_count": null,
   "id": "d300c375-4c3a-42ac-b627-46ccee109f23",
   "metadata": {},
   "outputs": [],
   "source": [
    "md = smf.mixedlm(\"score ~ C(category, Treatment(reference='empty'))\", all_df, groups=all_df[\"modelDataset\"])"
   ]
  },
  {
   "cell_type": "code",
   "execution_count": null,
   "id": "17ff651d-a3e9-465b-8860-9c9eee0c4333",
   "metadata": {},
   "outputs": [],
   "source": [
    "mdf = md.fit()\n",
    "display(mdf.summary().tables[0])\n",
    "coefs = mdf.summary().tables[1]\n",
    "coefs[\"Coef.\"] = coefs[\"Coef.\"].astype(\"float\")\n",
    "display(coefs.sort_values(\"Coef.\"))"
   ]
  },
  {
   "cell_type": "code",
   "execution_count": null,
   "id": "917e8a1b-601d-429c-aae1-9d65a150632a",
   "metadata": {},
   "outputs": [],
   "source": [
    "table = mdf.summary().tables[1]"
   ]
  },
  {
   "cell_type": "code",
   "execution_count": null,
   "id": "245503b9-69e7-4787-b366-8df1ef4d810c",
   "metadata": {},
   "outputs": [],
   "source": [
    "table = table.loc[[x for x in table.index if \"reference\" in x]].astype(\"float\")"
   ]
  },
  {
   "cell_type": "code",
   "execution_count": null,
   "id": "66f4ddcc-3cc6-43bd-807f-40de85c3d53c",
   "metadata": {},
   "outputs": [],
   "source": [
    "ax = plot_errorbars(table, (6,4))"
   ]
  },
  {
   "cell_type": "code",
   "execution_count": null,
   "id": "2f41c410-fddf-4c73-bc89-49417955e41d",
   "metadata": {},
   "outputs": [],
   "source": [
    "marg, cond = compute_r2(mdf, all_df)"
   ]
  },
  {
   "cell_type": "code",
   "execution_count": null,
   "id": "1260ab08-a2d9-4207-80b7-53ef28e0d77f",
   "metadata": {},
   "outputs": [],
   "source": [
    "marg, cond, marg/(1- cond + marg)"
   ]
  },
  {
   "cell_type": "code",
   "execution_count": null,
   "id": "d425574c-9d5c-4a8c-a128-f2b603b034ab",
   "metadata": {},
   "outputs": [],
   "source": [
    "large_only = all_df[all_df.model.isin([MODEL_ORDER[5], MODEL_ORDER[-1]])]"
   ]
  },
  {
   "cell_type": "code",
   "execution_count": null,
   "id": "1f34a167-3255-4268-8c7f-e21d3709d87b",
   "metadata": {},
   "outputs": [],
   "source": [
    "md = smf.mixedlm(\"score ~ C(category, Treatment(reference='empty'))\", large_only, groups=large_only[\"modelDataset\"])"
   ]
  },
  {
   "cell_type": "code",
   "execution_count": null,
   "id": "2c8042f8-0bb4-4484-a7d7-e3f4e4febf0e",
   "metadata": {},
   "outputs": [],
   "source": [
    "mdf = md.fit()\n",
    "display(mdf.summary().tables[0])\n",
    "coefs = mdf.summary().tables[1]\n",
    "coefs[\"Coef.\"] = coefs[\"Coef.\"].astype(\"float\")\n",
    "display(coefs.sort_values(\"Coef.\"))"
   ]
  },
  {
   "cell_type": "code",
   "execution_count": null,
   "id": "2f4d4fad-5a84-4c3d-ab29-6cb922e54bdf",
   "metadata": {},
   "outputs": [],
   "source": [
    "table = mdf.summary().tables[1]\n",
    "table = table.loc[[x for x in table.index if \"reference\" in x]].astype(\"float\")"
   ]
  },
  {
   "cell_type": "code",
   "execution_count": null,
   "id": "0e9a4d16-370a-4f3c-8e9e-440d3fa1c80b",
   "metadata": {},
   "outputs": [],
   "source": [
    "ax = plot_errorbars(table, (6,4))"
   ]
  },
  {
   "cell_type": "markdown",
   "id": "5163fb6d-d092-4d5a-b06e-9020c81ad6ad",
   "metadata": {},
   "source": [
    "#### Scale effect on OP"
   ]
  },
  {
   "cell_type": "code",
   "execution_count": null,
   "id": "4bad1f5c-3638-45cc-b295-7125875aa8d8",
   "metadata": {},
   "outputs": [],
   "source": [
    "sizes =  [1, 2, 3, 1, 2, 4, 1, 2, 4]\n",
    "size_map = {k:v  for v, k in zip(sizes, MODEL_ORDER)}"
   ]
  },
  {
   "cell_type": "code",
   "execution_count": null,
   "id": "6d8a82b0-d164-4192-a042-0ac5132e9cd9",
   "metadata": {},
   "outputs": [],
   "source": [
    "all_df[\"size\"] = all_df.model.apply(lambda x: size_map[x]).astype(\"int\")"
   ]
  },
  {
   "cell_type": "code",
   "execution_count": null,
   "id": "83f28c68-7a9e-4b48-852f-2492feebf00c",
   "metadata": {},
   "outputs": [],
   "source": [
    "families = [\"gemma\", \"llama\", \"qwen\"]"
   ]
  },
  {
   "cell_type": "code",
   "execution_count": null,
   "id": "2f721d5c-3040-4761-a5d6-0b00816fe864",
   "metadata": {},
   "outputs": [],
   "source": [
    "all_df[\"family\"] = all_df.model.apply(lambda x: families[MODEL_ORDER.index(x) // 3])"
   ]
  },
  {
   "cell_type": "code",
   "execution_count": null,
   "id": "c55b877e-9031-453c-8c44-3e5577ccfb14",
   "metadata": {},
   "outputs": [],
   "source": [
    "all_df[\"familyDataset\"] = all_df[\"family\"] + all_df[\"dataset\"].astype(str)"
   ]
  },
  {
   "cell_type": "code",
   "execution_count": null,
   "id": "4b80bca9-9f4b-4d73-bd56-7775843d582f",
   "metadata": {},
   "outputs": [],
   "source": [
    "expert_df = all_df[all_df[\"persona\"].isin([\"in-expert\", \"empty\"])]"
   ]
  },
  {
   "cell_type": "code",
   "execution_count": null,
   "id": "175628c6-4515-4f2c-8e36-1e83ab9ea706",
   "metadata": {},
   "outputs": [],
   "source": [
    "over_df = expert_df[expert_df[\"persona\"] == \"in-expert\"].copy()"
   ]
  },
  {
   "cell_type": "code",
   "execution_count": null,
   "id": "bf10726b-1e5f-412b-962a-b86add9738f0",
   "metadata": {},
   "outputs": [],
   "source": [
    "over_df.score = expert_df[expert_df[\"persona\"] == \"in-expert\"].score-  expert_df[expert_df[\"persona\"] == \"empty\"].score.values"
   ]
  },
  {
   "cell_type": "code",
   "execution_count": null,
   "id": "e4ce4aee-f9a3-4713-a201-6decad7fed4d",
   "metadata": {},
   "outputs": [],
   "source": [
    "md = smf.mixedlm(\"score ~ size\", over_df, groups=over_df[\"familyDataset\"])"
   ]
  },
  {
   "cell_type": "code",
   "execution_count": null,
   "id": "4519d22b-2d8d-417c-b2e6-f5cf16d1929b",
   "metadata": {},
   "outputs": [],
   "source": [
    "mdf = md.fit()\n",
    "display(mdf.summary().tables[0])\n",
    "coefs = mdf.summary().tables[1]\n",
    "coefs[\"Coef.\"] = coefs[\"Coef.\"].astype(\"float\")\n",
    "display(coefs.sort_values(\"Coef.\"))"
   ]
  },
  {
   "cell_type": "markdown",
   "id": "9814f763-3073-4657-be1e-ad4b24ecc951",
   "metadata": {},
   "source": [
    "#### Scale effect on Robustness (color)"
   ]
  },
  {
   "cell_type": "code",
   "execution_count": null,
   "id": "87d34b9c-abf7-4890-81c1-62a4950f46d9",
   "metadata": {},
   "outputs": [],
   "source": [
    "color_rob = all_df.drop_duplicates(\"modelDataset\")\n",
    "\n",
    "color_rob.loc[:,\"score\"] = [robs_df[\"color\"].loc[row[\"dataset\"], row[\"model\"]] for _, row  in color_rob.iterrows()]\n",
    "\n",
    "md = smf.mixedlm(\"score ~ size\", color_rob, groups=color_rob[\"familyDataset\"])\n",
    "\n",
    "mdf = md.fit()\n",
    "display(mdf.summary().tables[0])\n",
    "coefs = mdf.summary().tables[1]\n",
    "coefs[\"Coef.\"] = coefs[\"Coef.\"].astype(\"float\")\n",
    "display(coefs.sort_values(\"Coef.\"))\n",
    "\n",
    "marg, cond = compute_r2(mdf, all_df)\n",
    "\n",
    "marg, cond, marg/(1- cond + marg)"
   ]
  },
  {
   "cell_type": "markdown",
   "id": "9fd8e470-ef10-480f-9406-1b5b2276ea7b",
   "metadata": {},
   "source": [
    "#### Scale effect on Robustness (name)"
   ]
  },
  {
   "cell_type": "code",
   "execution_count": null,
   "id": "1e41b295-a0d5-42ae-856f-b19fe459aa86",
   "metadata": {},
   "outputs": [],
   "source": [
    "name_rob = all_df.drop_duplicates(\"modelDataset\")\n",
    "\n",
    "name_rob.loc[:,\"score\"] = [robs_df[\"name\"].loc[row[\"dataset\"], row[\"model\"]] for _, row  in name_rob.iterrows()]\n",
    "\n",
    "md = smf.mixedlm(\"score ~ size\", name_rob, groups=name_rob[\"familyDataset\"])\n",
    "\n",
    "mdf = md.fit()\n",
    "display(mdf.summary().tables[0])\n",
    "coefs = mdf.summary().tables[1]\n",
    "coefs[\"Coef.\"] = coefs[\"Coef.\"].astype(\"float\")\n",
    "display(coefs.sort_values(\"Coef.\"))\n",
    "\n",
    "marg, cond = compute_r2(mdf, all_df)\n",
    "\n",
    "marg, cond, marg/(1- cond + marg)"
   ]
  },
  {
   "cell_type": "markdown",
   "id": "ef9d8f74-c282-4604-afb5-936f166ffc96",
   "metadata": {},
   "source": [
    "#### Scale effect on Fidelity (education)"
   ]
  },
  {
   "cell_type": "code",
   "execution_count": null,
   "id": "670c509a-e3ed-434e-8e98-8611d78bdf9a",
   "metadata": {},
   "outputs": [],
   "source": [
    "education_fid = all_df.drop_duplicates(\"modelDataset\")\n",
    "\n",
    "education_fid.loc[:,\"score\"] = [fid_dfs[\"Education\"].loc[row[\"dataset\"], row[\"model\"]] for _, row  in education_fid.iterrows()]\n",
    "\n",
    "md = smf.mixedlm(\"score ~ size\", education_fid, groups=education_fid[\"familyDataset\"])\n",
    "\n",
    "mdf = md.fit()\n",
    "display(mdf.summary().tables[0])\n",
    "coefs = mdf.summary().tables[1]\n",
    "coefs[\"Coef.\"] = coefs[\"Coef.\"].astype(\"float\")\n",
    "display(coefs.sort_values(\"Coef.\"))\n",
    "\n",
    "marg, cond = compute_r2(mdf, all_df)\n",
    "\n",
    "marg, cond, marg/(1- cond + marg)"
   ]
  },
  {
   "cell_type": "markdown",
   "id": "0c447786-1604-4a69-b48c-22ceea82be26",
   "metadata": {},
   "source": [
    "#### Scale effect on Fidelity (expertise)"
   ]
  },
  {
   "cell_type": "code",
   "execution_count": null,
   "id": "42dd6056-7bca-4568-967e-0ce7a97b7e9f",
   "metadata": {},
   "outputs": [],
   "source": [
    "expert_fid = all_df.drop_duplicates(\"modelDataset\")\n",
    "\n",
    "expert_fid.loc[:,\"score\"] = [fid_dfs[\"Exp. Domain\"].loc[row[\"dataset\"], row[\"model\"]] for _, row  in expert_fid.iterrows()]\n",
    "\n",
    "md = smf.mixedlm(\"score ~ size\", expert_fid, groups=expert_fid[\"familyDataset\"])\n",
    "\n",
    "mdf = md.fit()\n",
    "display(mdf.summary().tables[0])\n",
    "coefs = mdf.summary().tables[1]\n",
    "coefs[\"Coef.\"] = coefs[\"Coef.\"].astype(\"float\")\n",
    "display(coefs.sort_values(\"Coef.\"))\n",
    "\n",
    "marg, cond = compute_r2(mdf, all_df)\n",
    "\n",
    "marg, cond, marg/(1- cond + marg)"
   ]
  },
  {
   "cell_type": "markdown",
   "id": "6b714168-ffd4-4a8c-9c2d-f4ef6c992cab",
   "metadata": {},
   "source": [
    "#### Scale effect on Fidelity (expertise level)"
   ]
  },
  {
   "cell_type": "code",
   "execution_count": null,
   "id": "8621f7bc-786c-4703-8cb4-98ea0b5079eb",
   "metadata": {},
   "outputs": [],
   "source": [
    "expert_level_fid = all_df.drop_duplicates(\"modelDataset\")\n",
    "\n",
    "expert_level_fid.loc[:,\"score\"] = [fid_dfs[\"Exp. Specialization\"].loc[row[\"dataset\"], row[\"model\"]] for _, row  in expert_level_fid.iterrows()]\n",
    "\n",
    "md = smf.mixedlm(\"score ~ 0+size\", expert_level_fid, groups=expert_level_fid[\"familyDataset\"])\n",
    "\n",
    "mdf = md.fit()\n",
    "display(mdf.summary().tables[0])\n",
    "coefs = mdf.summary().tables[1]\n",
    "coefs[\"Coef.\"] = coefs[\"Coef.\"].astype(\"float\")\n",
    "display(coefs.sort_values(\"Coef.\"))\n",
    "\n",
    "marg, cond = compute_r2(mdf, all_df)\n",
    "\n",
    "marg, cond, marg/(1- cond + marg)"
   ]
  },
  {
   "cell_type": "markdown",
   "id": "05f6f729-d8a8-4b00-a32d-e915bbcc2ddf",
   "metadata": {},
   "source": [
    "#### Effect of domain matchiness"
   ]
  },
  {
   "cell_type": "code",
   "execution_count": null,
   "id": "9666c103-b5e7-4802-be0e-48400247e6fd",
   "metadata": {},
   "outputs": [],
   "source": [
    "levels = {\"out-expert\": 1, \"experts\": 2, \"in-expert\": 3}\n",
    "\n",
    "domain_df = all_df[all_df.persona.isin(levels.keys())].copy()\n",
    "\n",
    "domain_df.persona = domain_df.persona.apply(lambda x:  levels[x])\n",
    "\n",
    "np.unique(domain_df.persona)\n",
    "\n",
    "md = smf.mixedlm(\"score ~ 0 + persona\", domain_df, groups=domain_df[\"modelDataset\"])\n",
    "\n",
    "mdf = md.fit()\n",
    "display(mdf.summary().tables[0])\n",
    "coefs = mdf.summary().tables[1]\n",
    "coefs[\"Coef.\"] = coefs[\"Coef.\"].astype(\"float\")\n",
    "display(coefs.sort_values(\"Coef.\"))\n",
    "\n",
    "marg, cond = compute_r2(mdf, domain_df)\n",
    "\n",
    "marg, cond, marg/(1- cond + marg)"
   ]
  },
  {
   "cell_type": "markdown",
   "id": "df4e49f1-29af-42b8-8470-94daf7215a6e",
   "metadata": {},
   "source": [
    "#### Effect of expertise-level"
   ]
  },
  {
   "cell_type": "code",
   "execution_count": null,
   "id": "982fbf4e-c589-43ae-88e1-45ef443ed965",
   "metadata": {},
   "outputs": [],
   "source": [
    "levels = [f\"level{i}\" for i in range(1,4)]\n",
    "\n",
    "level_df = all_df[all_df.persona.isin(levels)].copy()\n",
    "\n",
    "level_df.persona = level_df.persona.str[-1].astype(int)\n",
    "\n",
    "md = smf.mixedlm(\"score ~ 0+persona\",level_df, groups=level_df[\"modelDataset\"])\n",
    "\n",
    "mdf = md.fit()\n",
    "display(mdf.summary().tables[0])\n",
    "coefs = mdf.summary().tables[1]\n",
    "coefs[\"Coef.\"] = coefs[\"Coef.\"].astype(\"float\")\n",
    "display(coefs.sort_values(\"Coef.\"))\n",
    "\n",
    "marg, cond = compute_r2(mdf, level_df)\n",
    "\n",
    "marg, cond, marg/(1- cond + marg)"
   ]
  },
  {
   "cell_type": "markdown",
   "id": "b97d6d83-3e0f-43ae-9439-d57ebffab0cd",
   "metadata": {},
   "source": [
    "#### Effect of education"
   ]
  },
  {
   "cell_type": "code",
   "execution_count": null,
   "id": "f1dee2e3-bbcd-41e0-bd9b-e91fe5733283",
   "metadata": {},
   "outputs": [],
   "source": [
    "edu_df = all_df[all_df.persona.str.contains(\"educ\")].copy()\n",
    "\n",
    "edu_df.persona = edu_df.persona.apply(lambda x: EDUCATION_PERSONAS.index(x)+1).astype(int)\n",
    "\n",
    "md = smf.mixedlm(\"score ~ 0 + persona\",edu_df, groups=edu_df[\"modelDataset\"])\n",
    "\n",
    "mdf = md.fit()\n",
    "display(mdf.summary().tables[0])\n",
    "coefs = mdf.summary().tables[1]\n",
    "coefs[\"Coef.\"] = coefs[\"Coef.\"].astype(\"float\")\n",
    "display(coefs.sort_values(\"Coef.\"))\n",
    "\n",
    "marg, cond = compute_r2(mdf, edu_df)\n",
    "\n",
    "marg, cond, marg/(1- cond + marg)"
   ]
  },
  {
   "cell_type": "markdown",
   "id": "a51d51c6-8840-498d-afe8-2f7180905e0b",
   "metadata": {},
   "source": [
    "### Refine basic"
   ]
  },
  {
   "cell_type": "code",
   "execution_count": null,
   "id": "9ee6b1d6-31c8-4e6f-8bcc-a85ed4c60b99",
   "metadata": {},
   "outputs": [],
   "source": [
    "prefix = \"./results/refine_basic\""
   ]
  },
  {
   "cell_type": "code",
   "execution_count": null,
   "id": "4c037478-9b94-4d56-a723-2ad6f1efde3d",
   "metadata": {},
   "outputs": [],
   "source": [
    "all_pvalues = pickle.load(open(f\"{prefix}/all_pvalues.pkl\", \"rb\"))\n",
    "all_metrics = pickle.load(open(f\"{prefix}/all_metrics.pkl\", \"rb\"))\n",
    "all_results = pickle.load(open(f\"{prefix}/all_results.pkl\", \"rb\"))\n",
    "fidelity_significance = pickle.load(open(f\"{prefix}/fidelity_significances.pkl\", \"rb\"))\n",
    "fidelity_intervals = pickle.load(open(f\"{prefix}/fidelity_intervals.pkl\", \"rb\"))\n"
   ]
  },
  {
   "cell_type": "code",
   "execution_count": null,
   "id": "39593f10-cea2-4adf-af3a-fbf6db2fe72b",
   "metadata": {},
   "outputs": [],
   "source": [
    "fig, axes = plt.subplots(1, 4, sharex=True, sharey=True, figsize=(20,15), gridspec_kw={})\n",
    "name_mapping = {\"static\": \"Static\\n(e.g., expert in fact-checking)\", \"level1\": \"Broad\\n(e.g., expert in math)\", \"level2\": \"Focused\\n(e.g., expert in abstract algebra)\", \"level3\": \"Niche\\n(e.g., expert in group theory)\"}\n",
    "for idx, expert in enumerate([\"static\", \"level1\", \"level2\", \"level3\"]):\n",
    "    ax = axes[idx]\n",
    "    op_df = pd.DataFrame(columns=MODEL_ORDER)\n",
    "    pvalues =  pd.DataFrame(columns=MODEL_ORDER)\n",
    "    if expert==\"static\":\n",
    "        for dataset, metrics in all_results.items():\n",
    "            op_df.loc[dataset] = all_metrics[dataset].loc[\"OP\"]\n",
    "            df = all_pvalues[dataset]\n",
    "            pvalues.loc[dataset] = df.loc[\"in-expert\"]\n",
    "    else:\n",
    "        for dataset, metrics in all_results.items():\n",
    "            op_df.loc[dataset] = metrics.loc[expert] - metrics.loc[\"empty\"]\n",
    "            df = all_pvalues[dataset]\n",
    "            pvalues.loc[dataset] = df.loc[expert]\n",
    "    # op_df.loc[\"Avg.\"] = op_df.mean(0)\n",
    "    # op_df[\"Avg.\"] = op_df.mean(1)\n",
    "    # pvalues.loc[\"Avg.\"] = op_df.apply(lambda x: wilcoxon(x.values).pvalue,axis=0)\n",
    "    # pvalues[\"Avg.\"] = op_df.apply(lambda x: wilcoxon(x.values).pvalue,axis=1)\n",
    "    op_masked = op_df.mask(pvalues > .05, np.nan)\n",
    "    # op_masked = op_masked.map(lambda x: 0 if x > 0 else (-1 if x < 0 else np.nan))\n",
    "    op_masked = op_masked.rename(columns=lambda x: x.rsplit(\"-\", maxsplit=1)[0])\n",
    "    op_masked = op_masked.rename(index=lambda x: x.replace(\"contextual_parametric_\", \"\"))\n",
    "    sns.heatmap(op_masked, cmap=sns.diverging_palette(260, 30, s=100, center='light', as_cmap=True), vmin=-.1, vmax=.1,center=0, cbar=False,annot=op_df*100, fmt=\".1f\", square=True, linewidth=1, linecolor=\"gray\", ax=ax)\n",
    "    x= np.arange(op_masked.shape[1]+1)\n",
    "    y= np.arange(op_masked.shape[0]+1)\n",
    "    pvalues = pvalues.map(lambda x: x if x <0.05 else 1)\n",
    "    zm = np.ma.masked_less(pvalues.loc[op_df.index].values, 0.05)\n",
    "    ax.pcolor(x, y, zm , cmap=\"Grays_r\", alpha=.02)\n",
    "    ax.vlines([0, 3, 6, 9], *ax.get_ylim(), lw=1, color=\"black\")\n",
    "    ax.hlines([0, 1, 2, 16,20,27], *ax.get_ylim(), lw=1, color=\"black\")\n",
    "    ax.set_title(name_mapping[expert],fontproperties=bold_font,fontsize=18)\n",
    "\n",
    "    if idx//2 == 0: ax.get_xaxis().set_ticks([])\n",
    "fig.suptitle(\"Refine\", fontproperties=bold_font, y=.93,fontsize=20)\n",
    "plt.subplots_adjust(wspace=.05, hspace=0)\n",
    "#fig.tight_layout()"
   ]
  },
  {
   "cell_type": "code",
   "execution_count": null,
   "id": "d0bb880d-1c3f-496c-b6f5-d1fde6c6e966",
   "metadata": {},
   "outputs": [],
   "source": [
    "#ax.get_figure().savefig(\"../persona_performance_paper/media/expertise_refine_basic_tasks_heatmap.pdf\", bbox_inches=\"tight\")"
   ]
  },
  {
   "cell_type": "code",
   "execution_count": null,
   "id": "f0e74b4c-1df7-4592-862c-4827586dee03",
   "metadata": {},
   "outputs": [],
   "source": [
    "fig, axes = plt.subplots(1, 2, sharex=True, sharey=True, figsize=(10.5,15), gridspec_kw={})\n",
    "category_mapping = {\"color\": COLOR_PERSONAS, \"name\": NAMES}\n",
    "# plt.subplots_adjust(wspace=.15, hspace=.001)\n",
    "robs_df = {}\n",
    "for idx, rob in enumerate([\"color\", \"name\"]):\n",
    "    ax = axes[idx]\n",
    "    rob_df = pd.DataFrame(columns=MODEL_ORDER)\n",
    "    pvalues =  pd.DataFrame(columns=MODEL_ORDER)\n",
    "    for dataset, metrics in all_results.items():\n",
    "        rob_df.loc[dataset] = all_metrics[dataset].loc[f\"WU_{rob}\"]\n",
    "        df = all_pvalues[dataset]\n",
    "        worst = worst_case_utility(all_results[dataset], category_mapping[rob], return_persona=True)[1]\n",
    "        for model in MODEL_ORDER:\n",
    "            pvalues.loc[dataset, model] = df.loc[worst[model], model]\n",
    "    robs_df[rob] = rob_df\n",
    "    # rob_df.loc[\"Avg.\"] = rob_df.mean(0)\n",
    "    # rob_df[\"Avg.\"] = rob_df.mean(1)\n",
    "    # pvalues.loc[\"Avg.\"] = rob_df.apply(lambda x: wilcoxon(x.values).pvalue,axis=0)\n",
    "    # pvalues[\"Avg.\"] = rob_df.apply(lambda x: wilcoxon(x.values).pvalue,axis=1)\n",
    "    rob_masked = rob_df.mask(pvalues > .05, np.nan)\n",
    "    # rob_masked = rob_masked.map(lambda x: 0 if x > 0 else (-1 if x < 0 else np.nan))\n",
    "    rob_masked = rob_masked.rename(columns=lambda x: x.rsplit(\"-\", maxsplit=1)[0])\n",
    "    rob_masked = rob_masked.rename(index=lambda x: x.replace(\"contextual_parametric_\", \"\"))\n",
    "    sns.heatmap(rob_masked,cmap=sns.diverging_palette(260, 30, s=100, center='light', as_cmap=True), vmin=-.1, vmax=.1,center=0, cbar=False,annot=rob_df*100, fmt=\".1f\", square=True, linewidth=1, linecolor=\"gray\", ax=ax)\n",
    "    x= np.arange(rob_masked.shape[1]+1)\n",
    "    y= np.arange(rob_masked.shape[0]+1)\n",
    "    pvalues = pvalues.map(lambda x: x if x <0.05 else 1)\n",
    "    zm = np.ma.masked_less(pvalues.loc[rob_df.index].values, 0.05)\n",
    "    ax.pcolor(x, y, zm , cmap=\"Grays_r\", alpha=.02)\n",
    "    ax.vlines([0, 3, 6, 9], *ax.get_ylim(), lw=1, color=\"black\")\n",
    "    ax.hlines([0, 5], *ax.get_xlim(), lw=1, color=\"black\")\n",
    "    ax.hlines([0, 1, 2, 16,20,27], *ax.get_ylim(), lw=1, color=\"black\")\n",
    "    ax.set_title(rob.capitalize(),fontproperties=bold_font,fontsize=18)\n",
    "    # if idx//2 == 0: ax.get_xaxis().set_ticks([])\n",
    "fig.suptitle(\"Refine\", fontproperties=bold_font, y=.93,fontsize=20)\n",
    "plt.subplots_adjust(wspace=.05, hspace=0)\n",
    "#fig.tight_layout()"
   ]
  },
  {
   "cell_type": "code",
   "execution_count": null,
   "id": "ccf89dab-69ee-4f46-8c23-131a36e8ad36",
   "metadata": {},
   "outputs": [],
   "source": [
    "#ax.get_figure().savefig(\"../persona_performance_paper/media/robustness_refine_basic_tasks_heatmap.pdf\", bbox_inches=\"tight\")"
   ]
  },
  {
   "cell_type": "code",
   "execution_count": null,
   "id": "ba43d7a1-a347-4f3c-8b0a-cfd89c9c763a",
   "metadata": {},
   "outputs": [],
   "source": [
    "fig, axes = plt.subplots(1, 3, sharey=True, figsize=(15,15))\n",
    "category_mapping = {\"Exp. Domain\": \"Exp\", \"Exp. Specialization\": \"ExpLevel\", \"Education\": \"Ed\"}\n",
    "fid_dfs = {}\n",
    "# plt.subplots_adjust(wspace=.15, hspace=.001)\n",
    "for idx, fid in enumerate([\"Exp. Domain\", \"Exp. Specialization\", \"Education\"]):\n",
    "    ax = axes[idx]\n",
    "    fid_df = pd.DataFrame(columns=MODEL_ORDER)\n",
    "    pvalues =  pd.DataFrame(columns=MODEL_ORDER)\n",
    "    for dataset, metrics in all_results.items():\n",
    "        fid_df.loc[dataset] = all_metrics[dataset].loc[f\"Fid_{category_mapping[fid]}\"]\n",
    "        pvalues.loc[dataset] = fidelity_significance[dataset].loc[f\"Fid_{category_mapping[fid]}\"]\n",
    "    fid_dfs[fid]=fid_df\n",
    "    # fid_df.loc[\"Avg.\"] = fid_df.mean(0)\n",
    "    # fid_df[\"Avg.\"] = fid_df.mean(1)\n",
    "    # pvalues.loc[\"Avg.\"] = fid_df.apply(lambda x: wilcoxon(x.values).pvalue,axis=0)\n",
    "    # pvalues[\"Avg.\"] = fid_df.apply(lambda x: wilcoxon(x.values).pvalue,axis=1)\n",
    "    fid_masked = fid_df.mask(pvalues ==False, np.nan)\n",
    "    # rob_masked = rob_masked.map(lambda x: 0 if x > 0 else (-1 if x < 0 else np.nan))\n",
    "    fid_masked = fid_masked.rename(columns=lambda x: x.rsplit(\"-\", maxsplit=1)[0])\n",
    "    fid_masked = fid_masked.rename(index=lambda x: x.replace(\"contextual_parametric_\", \"\"))\n",
    "    sns.heatmap(fid_masked,cmap=sns.diverging_palette(260, 30, s=100, center='light', as_cmap=True),center=0, cbar=False,annot=fid_df*100, fmt=\".0f\", square=True, linewidth=1, linecolor=\"gray\", ax=ax)\n",
    "    x= np.arange(rob_masked.shape[1]+1)\n",
    "    y= np.arange(rob_masked.shape[0]+1)\n",
    "    pvalues = pvalues.map(lambda x: x if x <0.05 else 1)\n",
    "    zm = np.ma.masked_less(pvalues.loc[fid_df.index].values, 0.05)\n",
    "    ax.vlines([0, 3, 6, 9], *ax.get_ylim(), lw=1, color=\"black\")\n",
    "    ax.hlines([0, 1, 2, 16,20,27], *ax.get_ylim(), lw=1, color=\"black\")\n",
    "    ax.set_title(fid.capitalize(), fontproperties=bold_font, fontsize=18)\n",
    "    # if idx//2 == 0: ax.get_xaxis().set_ticks([])\n",
    "fig.suptitle(\"Refine\", fontproperties=bold_font, fontsize=20,y=.93)\n",
    "plt.subplots_adjust(wspace=.05, hspace=0)\n",
    "#fig.tight_layout()"
   ]
  },
  {
   "cell_type": "code",
   "execution_count": null,
   "id": "86cc2fac-21ce-4d77-9867-025829466b88",
   "metadata": {},
   "outputs": [],
   "source": [
    "#ax.get_figure().savefig(\"../persona_performance_paper/media/fidelity_refine_basic_tasks_heatmap.pdf\", bbox_inches=\"tight\")"
   ]
  },
  {
   "cell_type": "code",
   "execution_count": null,
   "id": "58dac1af-f76a-4cf3-81db-53b514361bc3",
   "metadata": {},
   "outputs": [],
   "source": [
    "all_df = pd.DataFrame()\n",
    "for k, v in all_results.items():\n",
    "    df = v.copy()\n",
    "    # df = df[[x for x in MODEL_ORDER if x != \"Llama-3.2-3B-Instruct\"]]\n",
    "    df = df.stack().reset_index()\n",
    "    df.columns = [\"persona\", \"model\", \"score\"]\n",
    "    df = df[df.persona.isin(EDUCATION_PERSONAS + COLOR_PERSONAS + NAMES + [\"empty\", \"in-expert\", \"experts\", \"out-expert\", \"level1\", \"level2\", \"level3\" ])]\n",
    "    df[\"dataset\"] = k\n",
    "    all_df = pd.concat([all_df, df], axis=0)"
   ]
  },
  {
   "cell_type": "code",
   "execution_count": null,
   "id": "b0101638-898a-4bf6-8a79-e09c80151b2d",
   "metadata": {},
   "outputs": [],
   "source": [
    "all_df[\"modelDataset\"] = all_df[\"model\"] + all_df[\"dataset\"].astype(str)"
   ]
  },
  {
   "cell_type": "code",
   "execution_count": null,
   "id": "4ae52940-fad6-4e94-b35a-bd6bc238e3fa",
   "metadata": {},
   "outputs": [],
   "source": [
    "cats = []\n",
    "for p in all_df.persona.tolist():\n",
    "    if p in COLOR_PERSONAS: cats.append(\"color\")\n",
    "    elif p in NAMES: cats.append(\"name\")\n",
    "    # elif p in EDUCATION_PERSONAS: cats.append(\"education\")\n",
    "    else: cats.append(p)"
   ]
  },
  {
   "cell_type": "code",
   "execution_count": null,
   "id": "ca3b9ea3-5aa4-4aff-881c-260a7efdf020",
   "metadata": {},
   "outputs": [],
   "source": [
    "all_df[\"category\"] = cats"
   ]
  },
  {
   "cell_type": "code",
   "execution_count": null,
   "id": "a99e59f0-e33f-4f8c-9f9c-515933ec4182",
   "metadata": {},
   "outputs": [],
   "source": [
    "md = smf.mixedlm(\"score ~ C(category, Treatment(reference='empty'))\", all_df, groups=all_df[\"modelDataset\"])"
   ]
  },
  {
   "cell_type": "code",
   "execution_count": null,
   "id": "8a5c16c9-4229-4c9b-ba2e-37f3a9f28c4e",
   "metadata": {},
   "outputs": [],
   "source": [
    "mdf = md.fit()\n",
    "display(mdf.summary().tables[0])\n",
    "coefs = mdf.summary().tables[1]\n",
    "coefs[\"Coef.\"] = coefs[\"Coef.\"].astype(\"float\")\n",
    "display(coefs.sort_values(\"Coef.\"))"
   ]
  },
  {
   "cell_type": "code",
   "execution_count": null,
   "id": "e16dbcea-0b7f-4f89-9f30-a7fed33d870a",
   "metadata": {},
   "outputs": [],
   "source": [
    "table = mdf.summary().tables[1]"
   ]
  },
  {
   "cell_type": "code",
   "execution_count": null,
   "id": "67972b44-2ad2-4707-b7e7-2b65107defa2",
   "metadata": {},
   "outputs": [],
   "source": [
    "table = table.loc[[x for x in table.index if \"reference\" in x]].astype(\"float\")"
   ]
  },
  {
   "cell_type": "code",
   "execution_count": null,
   "id": "39dd1978-3dea-4688-81f3-47e1dcd992b7",
   "metadata": {},
   "outputs": [],
   "source": [
    "ax = plot_errorbars(table, (6,4))"
   ]
  },
  {
   "cell_type": "code",
   "execution_count": null,
   "id": "e46ec5a7-afb3-4063-8afe-26bc442cef1c",
   "metadata": {},
   "outputs": [],
   "source": [
    "marg, cond = compute_r2(mdf, all_df)"
   ]
  },
  {
   "cell_type": "code",
   "execution_count": null,
   "id": "606fe8ec-7a63-42fe-9837-ebb3ed774510",
   "metadata": {},
   "outputs": [],
   "source": [
    "marg, cond, marg/(1- cond + marg)"
   ]
  },
  {
   "cell_type": "code",
   "execution_count": null,
   "id": "31c279d2-5127-4d07-afd3-4aa5c0c62529",
   "metadata": {},
   "outputs": [],
   "source": [
    "large_only = all_df[all_df.model.isin([MODEL_ORDER[5], MODEL_ORDER[-1]])]"
   ]
  },
  {
   "cell_type": "code",
   "execution_count": null,
   "id": "a018a744-82bd-400a-9b22-6f38f1c1b7d4",
   "metadata": {},
   "outputs": [],
   "source": [
    "md = smf.mixedlm(\"score ~ C(category, Treatment(reference='empty'))\", large_only, groups=large_only[\"modelDataset\"])"
   ]
  },
  {
   "cell_type": "code",
   "execution_count": null,
   "id": "e6c5f79d-72ff-4239-b042-92d8955e722b",
   "metadata": {},
   "outputs": [],
   "source": [
    "mdf = md.fit()\n",
    "display(mdf.summary().tables[0])\n",
    "coefs = mdf.summary().tables[1]\n",
    "coefs[\"Coef.\"] = coefs[\"Coef.\"].astype(\"float\")\n",
    "display(coefs.sort_values(\"Coef.\"))"
   ]
  },
  {
   "cell_type": "code",
   "execution_count": null,
   "id": "5e92ac8a-3835-43a6-9f94-64bb7d715cdf",
   "metadata": {},
   "outputs": [],
   "source": [
    "table = mdf.summary().tables[1]\n",
    "table = table.loc[[x for x in table.index if \"reference\" in x]].astype(\"float\")"
   ]
  },
  {
   "cell_type": "code",
   "execution_count": null,
   "id": "7921124a-80bd-413b-9304-ccbf8118fe57",
   "metadata": {},
   "outputs": [],
   "source": [
    "ax = plot_errorbars(table, (6,4))"
   ]
  },
  {
   "cell_type": "markdown",
   "id": "16fe326a-6843-479b-8f9b-759a06e3f71b",
   "metadata": {},
   "source": [
    "#### Scale effect on OP"
   ]
  },
  {
   "cell_type": "code",
   "execution_count": null,
   "id": "2f8c8194-a768-46da-acfa-f87dea476958",
   "metadata": {},
   "outputs": [],
   "source": [
    "sizes =  [1, 2, 3, 1, 2, 4, 1, 2, 4]\n",
    "size_map = {k:v  for v, k in zip(sizes, MODEL_ORDER)}"
   ]
  },
  {
   "cell_type": "code",
   "execution_count": null,
   "id": "4666fac4-86c2-41c8-aa0d-7f45ab64c6df",
   "metadata": {},
   "outputs": [],
   "source": [
    "all_df[\"size\"] = all_df.model.apply(lambda x: size_map[x]).astype(\"int\")"
   ]
  },
  {
   "cell_type": "code",
   "execution_count": null,
   "id": "9dd2e5b1-f02e-4204-85c4-08840c1189ba",
   "metadata": {},
   "outputs": [],
   "source": [
    "families = [\"gemma\", \"llama\", \"qwen\"]"
   ]
  },
  {
   "cell_type": "code",
   "execution_count": null,
   "id": "f9629261-169f-4409-a565-ec8c71aa7098",
   "metadata": {},
   "outputs": [],
   "source": [
    "all_df[\"family\"] = all_df.model.apply(lambda x: families[MODEL_ORDER.index(x) // 3])"
   ]
  },
  {
   "cell_type": "code",
   "execution_count": null,
   "id": "420cc6e8-1dc9-4a48-9059-922c0cab2440",
   "metadata": {},
   "outputs": [],
   "source": [
    "all_df[\"familyDataset\"] = all_df[\"family\"] + all_df[\"dataset\"].astype(str)"
   ]
  },
  {
   "cell_type": "code",
   "execution_count": null,
   "id": "cf438564-4128-4fbf-9e09-c742e286ea21",
   "metadata": {},
   "outputs": [],
   "source": [
    "expert_df = all_df[all_df[\"persona\"].isin([\"in-expert\", \"empty\"])]"
   ]
  },
  {
   "cell_type": "code",
   "execution_count": null,
   "id": "85751615-bff7-45b3-b136-37710fc3c261",
   "metadata": {},
   "outputs": [],
   "source": [
    "over_df = expert_df[expert_df[\"persona\"] == \"in-expert\"].copy()"
   ]
  },
  {
   "cell_type": "code",
   "execution_count": null,
   "id": "8a39815a-9a4b-4162-ae23-4dfbfd0fbbe9",
   "metadata": {},
   "outputs": [],
   "source": [
    "over_df.score = expert_df[expert_df[\"persona\"] == \"in-expert\"].score-  expert_df[expert_df[\"persona\"] == \"empty\"].score.values"
   ]
  },
  {
   "cell_type": "code",
   "execution_count": null,
   "id": "d4a6532c-cffd-4e1b-ad97-879eebb5f102",
   "metadata": {},
   "outputs": [],
   "source": [
    "md = smf.mixedlm(\"score ~ size\", over_df, groups=over_df[\"familyDataset\"])"
   ]
  },
  {
   "cell_type": "code",
   "execution_count": null,
   "id": "466c4e31-9846-4002-bb05-19b53159dec4",
   "metadata": {},
   "outputs": [],
   "source": [
    "mdf = md.fit()\n",
    "display(mdf.summary().tables[0])\n",
    "coefs = mdf.summary().tables[1]\n",
    "coefs[\"Coef.\"] = coefs[\"Coef.\"].astype(\"float\")\n",
    "display(coefs.sort_values(\"Coef.\"))"
   ]
  },
  {
   "cell_type": "markdown",
   "id": "fc41d3da-bd94-4cb7-bbc2-a07a123aa227",
   "metadata": {},
   "source": [
    "#### Scale effect on Robustness (color)"
   ]
  },
  {
   "cell_type": "code",
   "execution_count": null,
   "id": "88c68b16-d2fc-4ac1-a79c-21d766c902d1",
   "metadata": {},
   "outputs": [],
   "source": [
    "color_rob = all_df.drop_duplicates(\"modelDataset\")\n",
    "\n",
    "color_rob.loc[:,\"score\"] = [robs_df[\"color\"].loc[row[\"dataset\"], row[\"model\"]] for _, row  in color_rob.iterrows()]\n",
    "\n",
    "md = smf.mixedlm(\"score ~ size\", color_rob, groups=color_rob[\"familyDataset\"])\n",
    "\n",
    "mdf = md.fit()\n",
    "display(mdf.summary().tables[0])\n",
    "coefs = mdf.summary().tables[1]\n",
    "coefs[\"Coef.\"] = coefs[\"Coef.\"].astype(\"float\")\n",
    "display(coefs.sort_values(\"Coef.\"))\n",
    "\n",
    "marg, cond = compute_r2(mdf, all_df)\n",
    "\n",
    "marg, cond, marg/(1- cond + marg)"
   ]
  },
  {
   "cell_type": "markdown",
   "id": "ccbd55a7-1696-4c9b-9227-3b6d5cde83a7",
   "metadata": {},
   "source": [
    "#### Scale effect on Robustness (name)"
   ]
  },
  {
   "cell_type": "code",
   "execution_count": null,
   "id": "ce67152d-1808-4f48-a285-c6d7eb6e7689",
   "metadata": {},
   "outputs": [],
   "source": [
    "name_rob = all_df.drop_duplicates(\"modelDataset\")\n",
    "\n",
    "name_rob.loc[:,\"score\"] = [robs_df[\"name\"].loc[row[\"dataset\"], row[\"model\"]] for _, row  in name_rob.iterrows()]\n",
    "\n",
    "md = smf.mixedlm(\"score ~ size\", name_rob, groups=name_rob[\"familyDataset\"])\n",
    "\n",
    "mdf = md.fit()\n",
    "display(mdf.summary().tables[0])\n",
    "coefs = mdf.summary().tables[1]\n",
    "coefs[\"Coef.\"] = coefs[\"Coef.\"].astype(\"float\")\n",
    "display(coefs.sort_values(\"Coef.\"))\n",
    "\n",
    "marg, cond = compute_r2(mdf, all_df)\n",
    "\n",
    "marg, cond, marg/(1- cond + marg)"
   ]
  },
  {
   "cell_type": "markdown",
   "id": "b4501534-1a34-48d7-ad4f-7e7a73c2814f",
   "metadata": {},
   "source": [
    "#### Scale effect on Fidelity (education)"
   ]
  },
  {
   "cell_type": "code",
   "execution_count": null,
   "id": "392fe25c-ba7b-4f1f-83a9-0014a6a10907",
   "metadata": {},
   "outputs": [],
   "source": [
    "education_fid = all_df.drop_duplicates(\"modelDataset\")\n",
    "\n",
    "education_fid.loc[:,\"score\"] = [fid_dfs[\"Education\"].loc[row[\"dataset\"], row[\"model\"]] for _, row  in education_fid.iterrows()]\n",
    "\n",
    "md = smf.mixedlm(\"score ~ size\", education_fid, groups=education_fid[\"familyDataset\"])\n",
    "\n",
    "mdf = md.fit()\n",
    "display(mdf.summary().tables[0])\n",
    "coefs = mdf.summary().tables[1]\n",
    "coefs[\"Coef.\"] = coefs[\"Coef.\"].astype(\"float\")\n",
    "display(coefs.sort_values(\"Coef.\"))\n",
    "\n",
    "marg, cond = compute_r2(mdf, all_df)\n",
    "\n",
    "marg, cond, marg/(1- cond + marg)"
   ]
  },
  {
   "cell_type": "markdown",
   "id": "18d29ffa-d885-4432-99eb-92958872a918",
   "metadata": {},
   "source": [
    "#### Scale effect on Fidelity (expertise)"
   ]
  },
  {
   "cell_type": "code",
   "execution_count": null,
   "id": "c98c42eb-41f5-4014-bbb1-11477fc13ec1",
   "metadata": {},
   "outputs": [],
   "source": [
    "expert_fid = all_df.drop_duplicates(\"modelDataset\")\n",
    "\n",
    "expert_fid.loc[:,\"score\"] = [fid_dfs[\"Exp. Domain\"].loc[row[\"dataset\"], row[\"model\"]] for _, row  in expert_fid.iterrows()]\n",
    "\n",
    "md = smf.mixedlm(\"score ~ size\", expert_fid, groups=expert_fid[\"familyDataset\"])\n",
    "\n",
    "mdf = md.fit()\n",
    "display(mdf.summary().tables[0])\n",
    "coefs = mdf.summary().tables[1]\n",
    "coefs[\"Coef.\"] = coefs[\"Coef.\"].astype(\"float\")\n",
    "display(coefs.sort_values(\"Coef.\"))\n",
    "\n",
    "marg, cond = compute_r2(mdf, all_df)\n",
    "\n",
    "marg, cond, marg/(1- cond + marg)"
   ]
  },
  {
   "cell_type": "markdown",
   "id": "062084d1-9f7a-428a-9a7f-8fc3d9f4e236",
   "metadata": {},
   "source": [
    "#### Scale effect on Fidelity (expertise level)"
   ]
  },
  {
   "cell_type": "code",
   "execution_count": null,
   "id": "4648d0a7-954e-4aed-8b20-f0245d189728",
   "metadata": {},
   "outputs": [],
   "source": [
    "expert_level_fid = all_df.drop_duplicates(\"modelDataset\")\n",
    "\n",
    "expert_level_fid.loc[:,\"score\"] = [fid_dfs[\"Exp. Specialization\"].loc[row[\"dataset\"], row[\"model\"]] for _, row  in expert_level_fid.iterrows()]\n",
    "\n",
    "md = smf.mixedlm(\"score ~ 0+size\", expert_level_fid, groups=expert_level_fid[\"familyDataset\"])\n",
    "\n",
    "mdf = md.fit()\n",
    "display(mdf.summary().tables[0])\n",
    "coefs = mdf.summary().tables[1]\n",
    "coefs[\"Coef.\"] = coefs[\"Coef.\"].astype(\"float\")\n",
    "display(coefs.sort_values(\"Coef.\"))\n",
    "\n",
    "marg, cond = compute_r2(mdf, all_df)\n",
    "\n",
    "marg, cond, marg/(1- cond + marg)"
   ]
  },
  {
   "cell_type": "markdown",
   "id": "a96b30a9-2738-4118-b9b5-6de078981d18",
   "metadata": {},
   "source": [
    "#### Effect of domain matchiness"
   ]
  },
  {
   "cell_type": "code",
   "execution_count": null,
   "id": "0685aaa3-7c69-47a5-b75c-492e5a8ec309",
   "metadata": {},
   "outputs": [],
   "source": [
    "levels = {\"out-expert\": 1, \"experts\": 2, \"in-expert\": 3}\n",
    "\n",
    "domain_df = all_df[all_df.persona.isin(levels.keys())].copy()\n",
    "\n",
    "domain_df.persona = domain_df.persona.apply(lambda x:  levels[x])\n",
    "\n",
    "np.unique(domain_df.persona)\n",
    "\n",
    "md = smf.mixedlm(\"score ~ 0 + persona\", domain_df, groups=domain_df[\"modelDataset\"])\n",
    "\n",
    "mdf = md.fit()\n",
    "display(mdf.summary().tables[0])\n",
    "coefs = mdf.summary().tables[1]\n",
    "coefs[\"Coef.\"] = coefs[\"Coef.\"].astype(\"float\")\n",
    "display(coefs.sort_values(\"Coef.\"))\n",
    "\n",
    "marg, cond = compute_r2(mdf, domain_df)\n",
    "\n",
    "marg, cond, marg/(1- cond + marg)"
   ]
  },
  {
   "cell_type": "markdown",
   "id": "6edc9ab1-45c1-4539-9367-0804498a133c",
   "metadata": {},
   "source": [
    "#### Effect of expertise-level"
   ]
  },
  {
   "cell_type": "code",
   "execution_count": null,
   "id": "6cdc0331-54d4-48a3-88b4-a5ef2ef7736a",
   "metadata": {},
   "outputs": [],
   "source": [
    "levels = [f\"level{i}\" for i in range(1,4)]\n",
    "\n",
    "level_df = all_df[all_df.persona.isin(levels)].copy()\n",
    "\n",
    "level_df.persona = level_df.persona.str[-1].astype(int)\n",
    "\n",
    "md = smf.mixedlm(\"score ~ 0+persona\",level_df, groups=level_df[\"modelDataset\"])\n",
    "\n",
    "mdf = md.fit()\n",
    "display(mdf.summary().tables[0])\n",
    "coefs = mdf.summary().tables[1]\n",
    "coefs[\"Coef.\"] = coefs[\"Coef.\"].astype(\"float\")\n",
    "display(coefs.sort_values(\"Coef.\"))\n",
    "\n",
    "marg, cond = compute_r2(mdf, level_df)\n",
    "\n",
    "marg, cond, marg/(1- cond + marg)"
   ]
  },
  {
   "cell_type": "markdown",
   "id": "3e8f3b26-b60e-49f9-9a19-3178e3bae43f",
   "metadata": {},
   "source": [
    "#### Effect of education"
   ]
  },
  {
   "cell_type": "code",
   "execution_count": null,
   "id": "14d7000b-8533-4c9d-9728-01fead79158c",
   "metadata": {},
   "outputs": [],
   "source": [
    "edu_df = all_df[all_df.persona.str.contains(\"educ\")].copy()\n",
    "\n",
    "edu_df.persona = edu_df.persona.apply(lambda x: EDUCATION_PERSONAS.index(x)+1).astype(int)\n",
    "\n",
    "md = smf.mixedlm(\"score ~ 0 + persona\",edu_df, groups=edu_df[\"modelDataset\"])\n",
    "\n",
    "mdf = md.fit()\n",
    "display(mdf.summary().tables[0])\n",
    "coefs = mdf.summary().tables[1]\n",
    "coefs[\"Coef.\"] = coefs[\"Coef.\"].astype(\"float\")\n",
    "display(coefs.sort_values(\"Coef.\"))\n",
    "\n",
    "marg, cond = compute_r2(mdf, edu_df)\n",
    "\n",
    "marg, cond, marg/(1- cond + marg)"
   ]
  },
  {
   "cell_type": "code",
   "execution_count": null,
   "id": "425fc269-a2b5-4054-b350-f224b5b7b0d3",
   "metadata": {},
   "outputs": [],
   "source": [
    "name_map = {\n",
    "    \"./results\": \"baseline\",\n",
    "    \"./results/instruction\": \"instruction\",\n",
    "    \"./results/refine\": \"refine\",\n",
    "    \"results/refine_basic\": \"refine_basic\"\n",
    "}"
   ]
  },
  {
   "cell_type": "code",
   "execution_count": null,
   "id": "678303ab-2edc-4115-9080-5cecc134cb65",
   "metadata": {},
   "outputs": [],
   "source": [
    "mitigation_metrics_df = pd.DataFrame()\n",
    "for prefix in [\"./results\", \"./results/instruction\", \"./results/refine\", \"results/refine_basic\"]:\n",
    "    metrics = pickle.load(open(f\"{prefix}/all_metrics.pkl\", \"rb\"))\n",
    "    for task, df in metrics.items():\n",
    "        ms = df.T.stack().reset_index().copy()\n",
    "        ms[\"method\"] = name_map[prefix]\n",
    "        ms[\"task\"] = task\n",
    "        ms.columns = [\"model\", \"metric\", \"score\", \"method\", \"task\"]\n",
    "        mitigation_metrics_df =  pd.concat([mitigation_metrics_df, ms], axis=0)"
   ]
  },
  {
   "cell_type": "code",
   "execution_count": null,
   "id": "24c4db20-9a0d-4a79-bf34-08cb05d67b83",
   "metadata": {},
   "outputs": [],
   "source": [
    "mitigation_metrics_df[\"modelTask\"] = mitigation_metrics_df[\"model\"] + mitigation_metrics_df[\"task\"].astype(str)"
   ]
  },
  {
   "cell_type": "code",
   "execution_count": null,
   "id": "9765d796-47d8-4ad4-942b-8d3d70746192",
   "metadata": {},
   "outputs": [],
   "source": [
    "metrics = mitigation_metrics_df.metric.drop_duplicates().values[1:]; metrics"
   ]
  },
  {
   "cell_type": "code",
   "execution_count": null,
   "id": "5bfe8f1e-6681-40e7-817a-59d4990e79a1",
   "metadata": {},
   "outputs": [],
   "source": [
    "mitigation_metrics_df"
   ]
  },
  {
   "cell_type": "code",
   "execution_count": null,
   "id": "959dc95e-4a9e-4ed9-adcf-1a4d30c6ae6a",
   "metadata": {},
   "outputs": [],
   "source": [
    "for m in metrics:\n",
    "    print(f\"Analying {m}.\")\n",
    "    data = mitigation_metrics_df[mitigation_metrics_df.metric==m]\n",
    "    print(data.groupby(\"method\").score.mean())\n",
    "    md = smf.mixedlm(\"score ~ C(method, Treatment(reference='baseline'))\", data, groups=data[\"modelTask\"])\n",
    "    mdf = md.fit()\n",
    "    display(mdf.summary().tables[0])\n",
    "    coefs = mdf.summary().tables[1]\n",
    "    coefs[\"Coef.\"] = coefs[\"Coef.\"].astype(\"float\")\n",
    "    display(coefs.sort_values(\"Coef.\"))\n",
    "    table = mdf.summary().tables[1]\n",
    "    table = table.loc[[x for x in table.index if \"reference\" in x]].astype(\"float\")\n",
    "    display(plot_errorbars(table,figsize=(8,4)))\n",
    "    marg, cond = compute_r2(mdf, data)\n",
    "    print(marg, cond, marg/(1- cond + marg))\n",
    "    print(\"=======================================================\")\n",
    "    print()"
   ]
  },
  {
   "cell_type": "code",
   "execution_count": null,
   "id": "c4fdacc6-edce-4a5b-b712-c2ed01dc184e",
   "metadata": {},
   "outputs": [],
   "source": [
    "large_models = [MODEL_ORDER[5]] + [MODEL_ORDER[-1]]"
   ]
  },
  {
   "cell_type": "code",
   "execution_count": null,
   "id": "48f30a5a-707d-4d79-ac03-50ad8c6fa214",
   "metadata": {},
   "outputs": [],
   "source": [
    "mitigation_metrics_from_large = mitigation_metrics_df[mitigation_metrics_df.model.isin(large_models)]"
   ]
  },
  {
   "cell_type": "code",
   "execution_count": null,
   "id": "8af2adcd-f150-4895-b9cb-fdd87a858c6e",
   "metadata": {},
   "outputs": [],
   "source": [
    "for m in metrics:\n",
    "    print(f\"Analying {m}.\")\n",
    "    data = mitigation_metrics_from_large[mitigation_metrics_from_large.metric==m]\n",
    "    print(data.groupby(\"method\").score.mean())\n",
    "    md = smf.mixedlm(\"score ~ C(method, Treatment(reference='baseline'))\", data, groups=data[\"modelTask\"])\n",
    "    mdf = md.fit()\n",
    "    display(mdf.summary().tables[0])\n",
    "    coefs = mdf.summary().tables[1]\n",
    "    coefs[\"Coef.\"] = coefs[\"Coef.\"].astype(\"float\")\n",
    "    display(coefs.sort_values(\"Coef.\"))\n",
    "    table = mdf.summary().tables[1]\n",
    "    table = table.loc[[x for x in table.index if \"reference\" in x]].astype(\"float\")\n",
    "    display(plot_errorbars(table,figsize=(8,4)))\n",
    "    marg, cond = compute_r2(mdf, data)\n",
    "    print(marg, cond, marg/(1- cond + marg))\n",
    "    print(\"=======================================================\")\n",
    "    print()"
   ]
  },
  {
   "cell_type": "markdown",
   "id": "1b2fdbfc-ef15-49de-83d9-62429db83003",
   "metadata": {},
   "source": [
    "### Effect on dynamic personas"
   ]
  },
  {
   "cell_type": "code",
   "execution_count": null,
   "id": "349c1632-ae9a-4468-9e85-eddca0eb3d84",
   "metadata": {},
   "outputs": [],
   "source": [
    "expert1_performance = pd.DataFrame()\n",
    "expert2_performance = pd.DataFrame()\n",
    "expert3_performance = pd.DataFrame()\n",
    "for prefix in [\"./results\", \"./results/instruction\", \"./results/refine\", \"results/refine_basic\"]:\n",
    "    results = pickle.load(open(f\"{prefix}/all_results.pkl\", \"rb\"))\n",
    "    for task, df in results.items():\n",
    "        expert_dfs = [df.loc[[level]] for level in [\"level1\", \"level2\", \"level3\"]]\n",
    "        for idx, expert_df in enumerate(expert_dfs):\n",
    "            expert_df = expert_df -  df.loc[[\"empty\"]].values\n",
    "            expert_df = expert_df.T.stack().reset_index().copy()\n",
    "            expert_df[\"method\"] = name_map[prefix]\n",
    "            expert_df[\"task\"] = task\n",
    "            expert_df.columns = [\"model\", \"persona\", \"score\", \"method\", \"task\"]\n",
    "            expert_dfs[idx] = expert_df\n",
    "        expert1_performance =  pd.concat([expert1_performance, expert_dfs[0]], axis=0)\n",
    "        expert2_performance =  pd.concat([expert2_performance, expert_dfs[1]], axis=0)\n",
    "        expert3_performance =  pd.concat([expert3_performance, expert_dfs[2]], axis=0)"
   ]
  },
  {
   "cell_type": "code",
   "execution_count": null,
   "id": "d016b9db-12c5-4492-a8bc-ca70594786c7",
   "metadata": {},
   "outputs": [],
   "source": [
    "expert1_performance[\"modelTask\"] = expert1_performance[\"model\"] + expert1_performance[\"task\"].astype(str)\n",
    "expert2_performance[\"modelTask\"] = expert2_performance[\"model\"] + expert2_performance[\"task\"].astype(str)\n",
    "expert3_performance[\"modelTask\"] = expert3_performance[\"model\"] + expert3_performance[\"task\"].astype(str)"
   ]
  },
  {
   "cell_type": "code",
   "execution_count": null,
   "id": "cfdc02a3-3472-4c77-a924-d1a672490671",
   "metadata": {},
   "outputs": [],
   "source": [
    "data = expert1_performance\n",
    "print(data.groupby(\"method\").score.mean())\n",
    "md = smf.mixedlm(\"score ~ C(method, Treatment(reference='baseline'))\", data, groups=data[\"modelTask\"])\n",
    "mdf = md.fit()\n",
    "display(mdf.summary().tables[0])\n",
    "coefs = mdf.summary().tables[1]\n",
    "coefs[\"Coef.\"] = coefs[\"Coef.\"].astype(\"float\")\n",
    "display(coefs.sort_values(\"Coef.\"))\n",
    "table = mdf.summary().tables[1]\n",
    "table = table.loc[[x for x in table.index if \"reference\" in x]].astype(\"float\")\n",
    "display(plot_errorbars(table,figsize=(8,4)))\n",
    "marg, cond = compute_r2(mdf, data)\n",
    "print(marg, cond, marg/(1- cond + marg))\n",
    "print(\"=======================================================\")\n",
    "print()"
   ]
  },
  {
   "cell_type": "code",
   "execution_count": null,
   "id": "f320c9aa-5def-438d-904a-863370f8b499",
   "metadata": {},
   "outputs": [],
   "source": [
    "data = expert2_performance\n",
    "print(data.groupby(\"method\").score.mean())\n",
    "md = smf.mixedlm(\"score ~ C(method, Treatment(reference='baseline'))\", data, groups=data[\"modelTask\"])\n",
    "mdf = md.fit()\n",
    "display(mdf.summary().tables[0])\n",
    "coefs = mdf.summary().tables[1]\n",
    "coefs[\"Coef.\"] = coefs[\"Coef.\"].astype(\"float\")\n",
    "display(coefs.sort_values(\"Coef.\"))\n",
    "table = mdf.summary().tables[1]\n",
    "table = table.loc[[x for x in table.index if \"reference\" in x]].astype(\"float\")\n",
    "display(plot_errorbars(table,figsize=(8,4)))\n",
    "marg, cond = compute_r2(mdf, data)\n",
    "print(marg, cond, marg/(1- cond + marg))\n",
    "print(\"=======================================================\")\n",
    "print()"
   ]
  },
  {
   "cell_type": "code",
   "execution_count": null,
   "id": "3b43a7ca-e038-4836-890a-fc6d704204ad",
   "metadata": {},
   "outputs": [],
   "source": [
    "data = expert3_performance\n",
    "print(data.groupby(\"method\").score.mean())\n",
    "md = smf.mixedlm(\"score ~ C(method, Treatment(reference='baseline'))\", data, groups=data[\"modelTask\"])\n",
    "mdf = md.fit()\n",
    "display(mdf.summary().tables[0])\n",
    "coefs = mdf.summary().tables[1]\n",
    "coefs[\"Coef.\"] = coefs[\"Coef.\"].astype(\"float\")\n",
    "display(coefs.sort_values(\"Coef.\"))\n",
    "table = mdf.summary().tables[1]\n",
    "table = table.loc[[x for x in table.index if \"reference\" in x]].astype(\"float\")\n",
    "display(plot_errorbars(table,figsize=(8,4)))\n",
    "marg, cond = compute_r2(mdf, data)\n",
    "print(marg, cond, marg/(1- cond + marg))\n",
    "print(\"=======================================================\")\n",
    "print()"
   ]
  },
  {
   "cell_type": "code",
   "execution_count": null,
   "id": "bbdf6a59-a8b1-4f61-bafd-84baeabbec52",
   "metadata": {},
   "outputs": [],
   "source": [
    "expert1_performance_large = expert1_performance[expert1_performance.model.isin(large_models)]\n",
    "expert2_performance_large = expert2_performance[expert2_performance.model.isin(large_models)]\n",
    "expert3_performance_large = expert3_performance[expert3_performance.model.isin(large_models)]"
   ]
  },
  {
   "cell_type": "code",
   "execution_count": null,
   "id": "6a6e5896-b976-4149-bf1c-8e26c08307f0",
   "metadata": {},
   "outputs": [],
   "source": [
    "data = expert1_performance_large\n",
    "print(data.groupby(\"method\").score.mean())\n",
    "md = smf.mixedlm(\"score ~ C(method, Treatment(reference='baseline'))\", data, groups=data[\"modelTask\"])\n",
    "mdf = md.fit()\n",
    "display(mdf.summary().tables[0])\n",
    "coefs = mdf.summary().tables[1]\n",
    "coefs[\"Coef.\"] = coefs[\"Coef.\"].astype(\"float\")\n",
    "display(coefs.sort_values(\"Coef.\"))\n",
    "table = mdf.summary().tables[1]\n",
    "table = table.loc[[x for x in table.index if \"reference\" in x]].astype(\"float\")\n",
    "display(plot_errorbars(table,figsize=(8,4)))\n",
    "marg, cond = compute_r2(mdf, data)\n",
    "print(marg, cond, marg/(1- cond + marg))\n",
    "print(\"=======================================================\")\n",
    "print()"
   ]
  },
  {
   "cell_type": "code",
   "execution_count": null,
   "id": "2e25088d-bef7-4be1-a745-3a35f501905f",
   "metadata": {},
   "outputs": [],
   "source": [
    "data = expert2_performance_large\n",
    "print(data.groupby(\"method\").score.mean())\n",
    "md = smf.mixedlm(\"score ~ C(method, Treatment(reference='baseline'))\", data, groups=data[\"modelTask\"])\n",
    "mdf = md.fit()\n",
    "display(mdf.summary().tables[0])\n",
    "coefs = mdf.summary().tables[1]\n",
    "coefs[\"Coef.\"] = coefs[\"Coef.\"].astype(\"float\")\n",
    "display(coefs.sort_values(\"Coef.\"))\n",
    "table = mdf.summary().tables[1]\n",
    "table = table.loc[[x for x in table.index if \"reference\" in x]].astype(\"float\")\n",
    "display(plot_errorbars(table,figsize=(8,4)))\n",
    "marg, cond = compute_r2(mdf, data)\n",
    "print(marg, cond, marg/(1- cond + marg))\n",
    "print(\"=======================================================\")\n",
    "print()"
   ]
  },
  {
   "cell_type": "code",
   "execution_count": null,
   "id": "94ca4e4e-f799-41ee-9c82-184787fd1a97",
   "metadata": {},
   "outputs": [],
   "source": [
    "data = expert3_performance_large\n",
    "print(data.groupby(\"method\").score.mean())\n",
    "md = smf.mixedlm(\"score ~ C(method, Treatment(reference='baseline'))\", data, groups=data[\"modelTask\"])\n",
    "mdf = md.fit()\n",
    "display(mdf.summary().tables[0])\n",
    "coefs = mdf.summary().tables[1]\n",
    "coefs[\"Coef.\"] = coefs[\"Coef.\"].astype(\"float\")\n",
    "display(coefs.sort_values(\"Coef.\"))\n",
    "table = mdf.summary().tables[1]\n",
    "table = table.loc[[x for x in table.index if \"reference\" in x]].astype(\"float\")\n",
    "display(plot_errorbars(table,figsize=(8,4)))\n",
    "marg, cond = compute_r2(mdf, data)\n",
    "print(marg, cond, marg/(1- cond + marg))\n",
    "print(\"=======================================================\")\n",
    "print()"
   ]
  },
  {
   "cell_type": "markdown",
   "id": "1b9ce5e6-2ce7-45e8-8d5e-94a32951eaec",
   "metadata": {},
   "source": [
    "## Combined mitigation effect"
   ]
  },
  {
   "cell_type": "code",
   "execution_count": null,
   "id": "7aa45b2c-d128-4e82-8b46-dddac414c77b",
   "metadata": {},
   "outputs": [],
   "source": [
    "over_df = mitigation_metrics_df[mitigation_metrics_df.metric == \"OP\"]\n",
    "name_rob = mitigation_metrics_df[mitigation_metrics_df.metric == \"WU_name\"]\n",
    "color_rob = mitigation_metrics_df[mitigation_metrics_df.metric == \"WU_color\"]\n",
    "expert_fid = mitigation_metrics_df[mitigation_metrics_df.metric == \"Fid_Exp\"]\n",
    "education_fid = mitigation_metrics_df[mitigation_metrics_df.metric == \"Fid_Ed\"]\n",
    "expert_level_fid = mitigation_metrics_df[mitigation_metrics_df.metric == \"Fid_ExpLevel\"]"
   ]
  },
  {
   "cell_type": "code",
   "execution_count": null,
   "id": "54d4a786-fccb-44e5-bdc8-8b10be7e190b",
   "metadata": {},
   "outputs": [],
   "source": [
    "mitigation_dfs = [over_df, expert1_performance, expert2_performance, expert3_performance, color_rob, name_rob, expert_fid, education_fid, expert_level_fid]"
   ]
  },
  {
   "cell_type": "code",
   "execution_count": null,
   "id": "1eb8f1f6-4777-46c0-8602-98d30ad7a6d6",
   "metadata": {},
   "outputs": [],
   "source": [
    "metric_names = [\"Exp. Advant.\\n(static)\", \"Exp. Advant.\\n(broad)\", \"Exp. Advant.\\n(focused)\", \"Exp. Advant.\\n(niche)\", \"Robustness\\n(color)\", \"Robustness\\n(name)\", \"Fidelity\\n(domain match)\", \"Fidelity\\n(education)\", \"Fidelity\\n(expertise level)\"]"
   ]
  },
  {
   "cell_type": "code",
   "execution_count": null,
   "id": "2e755ee5-4917-42a2-bca7-cc9bff2e9ff8",
   "metadata": {},
   "outputs": [],
   "source": [
    "mitigation_map = {\n",
    "    \"baseline\": \"Base prompt\",\n",
    "    \"instruction\": \"Instruction\",\n",
    "    \"refine_basic\": \"Refine\",\n",
    "    \"refine\": \"Refine + Instruction\"\n",
    "}"
   ]
  },
  {
   "cell_type": "code",
   "execution_count": null,
   "id": "8da49ce4-0714-4c0d-b059-ddb378e93fd0",
   "metadata": {},
   "outputs": [],
   "source": [
    "for idx, df in enumerate(mitigation_dfs):\n",
    "    df = df.copy()\n",
    "    df.method = df.method.astype(pd.CategoricalDtype(categories=list(mitigation_map.keys()), ordered=True))\n",
    "    df = df.sort_values(\"method\")\n",
    "    df.method = df.method.apply(lambda x: mitigation_map[x])\n",
    "    mitigation_dfs[idx] = df"
   ]
  },
  {
   "cell_type": "code",
   "execution_count": null,
   "id": "83baf389-cdc0-4bfd-8255-2d9ee07b1ece",
   "metadata": {},
   "outputs": [],
   "source": [
    "all_coefs = pd.DataFrame()\n",
    "all_metrics = []\n",
    "for idx, df in enumerate(mitigation_dfs):\n",
    "    md = smf.mixedlm(\"score ~  C(method, Treatment(reference='Base prompt'))\", df, groups=df[\"modelTask\"])\n",
    "    mdf = md.fit()\n",
    "    coefs = mdf.summary().tables[1]\n",
    "    coefs[\"Coef.\"] = coefs[\"Coef.\"].astype(\"float\")\n",
    "    coefs = coefs.rename(index=lambda x: x.split(\"T.\")[-1].rstrip(\"]\"))\n",
    "    display(coefs)\n",
    "    all_metrics.extend(3*[metric_names[idx]])\n",
    "    all_coefs = pd.concat([all_coefs, coefs.loc[list(mitigation_map.values())[1:]]], axis=0)"
   ]
  },
  {
   "cell_type": "code",
   "execution_count": null,
   "id": "55e32516-6075-454d-adf4-eeb304bb2107",
   "metadata": {},
   "outputs": [],
   "source": [
    "table= all_coefs.astype(\"float\")"
   ]
  },
  {
   "cell_type": "code",
   "execution_count": null,
   "id": "7e630bec-4380-4905-9004-b653501e6ac5",
   "metadata": {},
   "outputs": [],
   "source": [
    "table[\"metric\"] = all_metrics"
   ]
  },
  {
   "cell_type": "code",
   "execution_count": null,
   "id": "d16b0aee-3e9f-428c-8e6f-701615155d26",
   "metadata": {},
   "outputs": [],
   "source": [
    "table[\"metric\"] = table.metric.astype(pd.CategoricalDtype(categories=metric_names, ordered=True))"
   ]
  },
  {
   "cell_type": "code",
   "execution_count": null,
   "id": "d2b5b1b6-2669-4bb1-bbd4-a186bef7dc53",
   "metadata": {},
   "outputs": [],
   "source": [
    "table[\"metric_category\"] = table.metric.map(lambda x: x.split(\"\\n\")[0]).astype(pd.CategoricalDtype(categories=metric_categories, ordered=True))"
   ]
  },
  {
   "cell_type": "code",
   "execution_count": null,
   "id": "96a99e4f-82a6-427c-b8f4-e4cfd607bf7a",
   "metadata": {},
   "outputs": [],
   "source": [
    "table = table.sort_values([\"metric_category\", \"metric\"])"
   ]
  },
  {
   "cell_type": "code",
   "execution_count": null,
   "id": "2515298f-b53e-4a01-b3d2-ff884f2d299b",
   "metadata": {},
   "outputs": [],
   "source": [
    "table= table.reset_index()"
   ]
  },
  {
   "cell_type": "code",
   "execution_count": null,
   "id": "75029507-80bf-414c-9eb0-cc3537f1fe00",
   "metadata": {},
   "outputs": [],
   "source": [
    "table = table.rename(columns=lambda x: \"Method\" if x == \"index\" else x)"
   ]
  },
  {
   "cell_type": "code",
   "execution_count": null,
   "id": "db8c7381-44aa-40cd-acb7-b99e38d6646c",
   "metadata": {},
   "outputs": [],
   "source": [
    "# Clean up the metric names\n",
    "table['metric_clean'] = table['metric']\n",
    "\n",
    "# Group by metric category\n",
    "categories = table['metric_category'].unique()\n",
    "n_categories = len(categories)\n",
    "\n",
    "# Set up the figure\n",
    "fig, axes = plt.subplots(n_categories, 1, figsize=(6.5, 6), sharey=False)\n",
    "\n",
    "if n_categories == 1:\n",
    "    axes = [axes]  # ensure axes is always iterable\n",
    "\n",
    "for ax, category in zip(axes, categories):\n",
    "    subset = table[table['metric_category'] == category]\n",
    "\n",
    "    # We'll plot by metric_clean on x, and Method within each x as grouped points\n",
    "    metrics = subset['metric_clean'].unique()\n",
    "    methods = list(mitigation_map.values())[1:]\n",
    "    x_locs = range(len(metrics))\n",
    "    width = 0.2\n",
    "\n",
    "    # For color/legend\n",
    "    color_map = {'Instruction': 'tab:blue', 'Refine': 'tab:orange', 'Refine + Instruction': 'tab:green'}\n",
    "\n",
    "    for i, method in enumerate(methods):\n",
    "        method_data = subset[subset['Method'] == method]\n",
    "        for j, metric in enumerate(metrics):\n",
    "            point = method_data[method_data['metric_clean'] == metric]\n",
    "            if not point.empty:\n",
    "                coef = point['Coef.'].values[0]\n",
    "                lower = point['[0.025'].values[0]\n",
    "                upper = point['0.975]'].values[0]\n",
    "                error = [[coef - lower], [upper - coef]]\n",
    "\n",
    "                ax.errorbar(\n",
    "                    j + i * width - width,  # Shift x slightly per method\n",
    "                    coef,\n",
    "                    yerr=error,\n",
    "                    fmt='o',\n",
    "                    capsize=4,\n",
    "                    label=method if j == 0 else \"\",  # only add label once per method\n",
    "                    color=color_map.get(method, 'gray')\n",
    "                )\n",
    "\n",
    "    #ax.set_title(f\"{category}\")\n",
    "    ax.set_xticks(range(len(metrics)))\n",
    "    ax.set_xticklabels(metrics, rotation=0, ha='right')\n",
    "    ax.set_ylabel(\"\")\n",
    "    ax.axhline(0, color='black', linewidth=0.8, linestyle='--')\n",
    "    if category== \"Exp. Advant.\": \n",
    "        ax.legend()\n",
    "        sns.move_legend(ax, \"upper left\", bbox_to_anchor=(-.05, 1.4),ncols=3)\n",
    "\n",
    "fig.supylabel(\"Prompt effect (all models)\")\n",
    "plt.subplots_adjust(wspace=0., hspace=.45, left=.2)\n",
    "plt.show()\n"
   ]
  },
  {
   "cell_type": "code",
   "execution_count": null,
   "id": "2573d711-0c8b-4b62-9cc0-24c8a1706fb4",
   "metadata": {},
   "outputs": [],
   "source": [
    "#fig.savefig(\"../persona_performance_paper/media/mitigation_coefs.pdf\", bbox_inches=\"tight\")"
   ]
  },
  {
   "cell_type": "code",
   "execution_count": null,
   "id": "dd62fcce-a0a4-4029-a0f8-5dd7208aedf6",
   "metadata": {},
   "outputs": [],
   "source": [
    "all_coefs = pd.DataFrame()\n",
    "all_metrics = []\n",
    "for idx, df in enumerate(mitigation_dfs):\n",
    "    md = smf.mixedlm(\"score ~  0 + C(method)\", df, groups=df[\"modelTask\"])\n",
    "    mdf = md.fit()\n",
    "    coefs = mdf.summary().tables[1]\n",
    "    coefs[\"Coef.\"] = coefs[\"Coef.\"].astype(\"float\")\n",
    "    coefs = coefs.rename(index=lambda x: x.split(\"[\")[-1].rstrip(\"]\"))\n",
    "    display(coefs)\n",
    "    all_metrics.extend(4*[metric_names[idx]])\n",
    "    all_coefs = pd.concat([all_coefs, coefs.loc[list(mitigation_map.values())]], axis=0)"
   ]
  },
  {
   "cell_type": "code",
   "execution_count": null,
   "id": "201d5689-22cb-46cb-a867-cd232fdfe17b",
   "metadata": {},
   "outputs": [],
   "source": [
    "table= all_coefs.astype(\"float\")"
   ]
  },
  {
   "cell_type": "code",
   "execution_count": null,
   "id": "64b77532-2b0e-4ed4-a3da-bfd666bd5e11",
   "metadata": {},
   "outputs": [],
   "source": [
    "table[\"metric\"] = all_metrics"
   ]
  },
  {
   "cell_type": "code",
   "execution_count": null,
   "id": "542eb8b0-7672-4168-87a0-f27876244486",
   "metadata": {},
   "outputs": [],
   "source": [
    "table[\"metric\"] = table.metric.astype(pd.CategoricalDtype(categories=metric_names, ordered=True))"
   ]
  },
  {
   "cell_type": "code",
   "execution_count": null,
   "id": "ed5c9e88-0d3b-49f6-9369-41412724911e",
   "metadata": {},
   "outputs": [],
   "source": [
    "table[\"metric_category\"] = table.metric.map(lambda x: x.split(\"\\n\")[0]).astype(pd.CategoricalDtype(categories=metric_categories, ordered=True))"
   ]
  },
  {
   "cell_type": "code",
   "execution_count": null,
   "id": "a260d033-28d3-46e4-86fe-41e98217cf3c",
   "metadata": {},
   "outputs": [],
   "source": [
    "table = table.sort_values([\"metric_category\", \"metric\"])"
   ]
  },
  {
   "cell_type": "code",
   "execution_count": null,
   "id": "412f6081-386a-45bf-81a2-80189c42eaa0",
   "metadata": {},
   "outputs": [],
   "source": [
    "table= table.reset_index()"
   ]
  },
  {
   "cell_type": "code",
   "execution_count": null,
   "id": "5d9f90c7-dbd9-4706-a3fc-4ebb5ad3dafb",
   "metadata": {},
   "outputs": [],
   "source": [
    "table = table.rename(columns=lambda x: \"Method\" if x == \"index\" else x)"
   ]
  },
  {
   "cell_type": "code",
   "execution_count": null,
   "id": "bcf71f6a-fde7-4a56-9bef-defb23bfa0c2",
   "metadata": {},
   "outputs": [],
   "source": [
    "# Clean up the metric names\n",
    "table['metric_clean'] = table['metric']\n",
    "\n",
    "# Group by metric category\n",
    "categories = table['metric_category'].unique()\n",
    "n_categories = len(categories)\n",
    "\n",
    "# Set up the figure\n",
    "fig, axes = plt.subplots(n_categories, 1, figsize=(6.5, 3.5), sharey=False)\n",
    "\n",
    "if n_categories == 1:\n",
    "    axes = [axes]  # ensure axes is always iterable\n",
    "\n",
    "for ax, category in zip(axes, categories):\n",
    "    subset = table[table['metric_category'] == category]\n",
    "\n",
    "    # We'll plot by metric_clean on x, and Method within each x as grouped points\n",
    "    metrics = subset['metric_clean'].unique()\n",
    "    methods = list(mitigation_map.values())\n",
    "    x_locs = range(len(metrics))\n",
    "    width = 0.2\n",
    "\n",
    "    # For color/legend\n",
    "    color_map = {\"Base prompt\": \"black\",'Instruction': 'tab:blue', 'Refine': 'tab:orange', 'Refine + Instruction': 'tab:green'}\n",
    "    marker_map = {\n",
    "            \"Base prompt\": \"o\",      # circle\n",
    "            \"Instruction\": \"s\",      # square\n",
    "            \"Refine\": \"D\",           # diamond\n",
    "            \"Refine + Instruction\": \"^\"  # triangle_up\n",
    "        }\n",
    "\n",
    "    for i, method in enumerate(methods):\n",
    "        method_data = subset[subset['Method'] == method]\n",
    "        for j, metric in enumerate(metrics):\n",
    "            point = method_data[method_data['metric_clean'] == metric]\n",
    "            if not point.empty:\n",
    "                coef = point['Coef.'].values[0]\n",
    "                lower = point['[0.025'].values[0]\n",
    "                upper = point['0.975]'].values[0]\n",
    "                error = [[coef - lower], [upper - coef]]\n",
    "\n",
    "                ax.errorbar(\n",
    "                    j + i * width - width,  # Shift x slightly per method\n",
    "                    coef,\n",
    "                    yerr=error,\n",
    "                    fmt=marker_map.get(method, 'o'),\n",
    "                    capsize=6,\n",
    "                    label=method if j == 0 else \"\",  # only add label once per method\n",
    "                    color=color_map.get(method, 'gray')\n",
    "                )\n",
    "\n",
    "    #ax.set_title(f\"{category}\")\n",
    "    ax.set_xticks(range(len(metrics)))\n",
    "    ax.set_xticklabels(metrics, rotation=0, ha='center')\n",
    "    ax.set_ylabel(\"\")\n",
    "    ax.axhline(0, color='black', linewidth=0.8, linestyle='--')\n",
    "    # if category== \"Exp. Advant.\": \n",
    "    #     ax.legend()\n",
    "    #     sns.move_legend(ax, \"upper left\", bbox_to_anchor=(-.05, 1.65),ncols=2)\n",
    "\n",
    "fig.supylabel(\"Prompt effect (all models)\")\n",
    "plt.subplots_adjust(wspace=0., hspace=.95, left=.15)\n",
    "plt.show()\n"
   ]
  },
  {
   "cell_type": "code",
   "execution_count": null,
   "id": "ecef476e-081f-44fb-95b5-f75566521b54",
   "metadata": {},
   "outputs": [],
   "source": [
    "fig.savefig(\"../persona_performance_paper/media/mitigation_coefs_nopersona.pdf\", bbox_inches=\"tight\")"
   ]
  },
  {
   "cell_type": "code",
   "execution_count": null,
   "id": "9830f087-c1be-42e9-a19d-9bf75bc52c81",
   "metadata": {},
   "outputs": [],
   "source": [
    "over_df = mitigation_metrics_from_large[mitigation_metrics_from_large.metric == \"OP\"]\n",
    "name_rob = mitigation_metrics_from_large[mitigation_metrics_from_large.metric == \"WU_name\"]\n",
    "color_rob = mitigation_metrics_from_large[mitigation_metrics_from_large.metric == \"WU_color\"]\n",
    "expert_fid = mitigation_metrics_from_large[mitigation_metrics_from_large.metric == \"Fid_Exp\"]\n",
    "education_fid = mitigation_metrics_from_large[mitigation_metrics_from_large.metric == \"Fid_Ed\"]\n",
    "expert_level_fid = mitigation_metrics_from_large[mitigation_metrics_from_large.metric == \"Fid_ExpLevel\"]"
   ]
  },
  {
   "cell_type": "code",
   "execution_count": null,
   "id": "d6cbcef9-3b75-46ad-b2d3-eab29605c576",
   "metadata": {},
   "outputs": [],
   "source": [
    "mitigation_dfs = [over_df, expert1_performance_large, expert2_performance_large, expert3_performance_large, color_rob, name_rob, expert_fid, education_fid, expert_level_fid]"
   ]
  },
  {
   "cell_type": "code",
   "execution_count": null,
   "id": "e22bd225-d538-4612-8e15-5f5bb7c84a6a",
   "metadata": {},
   "outputs": [],
   "source": [
    "metrics = [\"Exp. Advant.\\n(static)\", \"Exp. Advant.\\n(broad)\", \"Exp. Advant.\\n(focused)\", \"Exp. Advant.\\n(niche)\", \"Robustness\\n(color)\", \"Robustness\\n(name)\", \"Fidelity\\n(domain match)\", \"Fidelity\\n(education)\", \"Fidelity\\n(expertise level)\"]"
   ]
  },
  {
   "cell_type": "code",
   "execution_count": null,
   "id": "b821f629-18d0-4d55-92db-cd0bc3178011",
   "metadata": {},
   "outputs": [],
   "source": [
    "for idx, df in enumerate(mitigation_dfs):\n",
    "    df = df.copy()\n",
    "    df.method = df.method.astype(pd.CategoricalDtype(categories=list(mitigation_map.keys()), ordered=True))\n",
    "    df = df.sort_values(\"method\")\n",
    "    df.method = df.method.apply(lambda x: mitigation_map[x])\n",
    "    mitigation_dfs[idx] = df"
   ]
  },
  {
   "cell_type": "code",
   "execution_count": null,
   "id": "3b722019-0ce0-4d67-a61a-1ce872396cc5",
   "metadata": {},
   "outputs": [],
   "source": [
    "all_coefs = pd.DataFrame()\n",
    "all_metrics = []\n",
    "for idx, df in enumerate(mitigation_dfs):\n",
    "    md = smf.mixedlm(\"score ~  C(method, Treatment(reference='Base prompt'))\", df, groups=df[\"modelTask\"])\n",
    "    \n",
    "    mdf = md.fit()\n",
    "    coefs = mdf.summary().tables[1]\n",
    "    coefs[\"Coef.\"] = coefs[\"Coef.\"].astype(\"float\")\n",
    "    coefs = coefs.rename(index=lambda x: x.split(\"T.\")[-1].rstrip(\"]\"))\n",
    "    display(coefs)\n",
    "    all_metrics.extend(3*[metrics[idx]])\n",
    "    all_coefs = pd.concat([all_coefs, coefs.loc[list(mitigation_map.values())[1:]]], axis=0)"
   ]
  },
  {
   "cell_type": "code",
   "execution_count": null,
   "id": "99f708cd-751d-40bd-99d0-e5321c8d8ca8",
   "metadata": {},
   "outputs": [],
   "source": [
    "table= all_coefs.astype(\"float\")"
   ]
  },
  {
   "cell_type": "code",
   "execution_count": null,
   "id": "951768e8-5387-41f3-9776-e763581315ad",
   "metadata": {},
   "outputs": [],
   "source": [
    "table[\"metric\"] = all_metrics"
   ]
  },
  {
   "cell_type": "code",
   "execution_count": null,
   "id": "ff71e8f9-dc16-491d-a89c-253d28eafd50",
   "metadata": {},
   "outputs": [],
   "source": [
    "table[\"metric\"] = table.metric.astype(pd.CategoricalDtype(categories=metric_names, ordered=True))"
   ]
  },
  {
   "cell_type": "code",
   "execution_count": null,
   "id": "43db7ced-cdd8-4a7d-9cd4-3d40fb3867e9",
   "metadata": {},
   "outputs": [],
   "source": [
    "table[\"metric_category\"] = table.metric.map(lambda x: x.split(\"\\n\")[0]).astype(pd.CategoricalDtype(categories=metric_categories, ordered=True))"
   ]
  },
  {
   "cell_type": "code",
   "execution_count": null,
   "id": "ab3ac162-7e7e-4280-b831-e28ab7a07d59",
   "metadata": {},
   "outputs": [],
   "source": [
    "table = table.sort_values([\"metric_category\", \"metric\"])"
   ]
  },
  {
   "cell_type": "code",
   "execution_count": null,
   "id": "8db80530-89b2-4e3b-96bf-10c26f284b58",
   "metadata": {},
   "outputs": [],
   "source": [
    "table= table.reset_index()"
   ]
  },
  {
   "cell_type": "code",
   "execution_count": null,
   "id": "543f9d2e-60b7-4c4e-81d9-8ca58d6ae13a",
   "metadata": {},
   "outputs": [],
   "source": [
    "table = table.rename(columns=lambda x: \"Method\" if x == \"index\" else x)"
   ]
  },
  {
   "cell_type": "code",
   "execution_count": null,
   "id": "dc2a9a49-96e4-4bd9-8091-de9f8a76707e",
   "metadata": {},
   "outputs": [],
   "source": [
    "# Clean up the metric names\n",
    "table['metric_clean'] = table['metric']\n",
    "\n",
    "# Group by metric category\n",
    "categories = table['metric_category'].unique()\n",
    "n_categories = len(categories)\n",
    "\n",
    "# Set up the figure\n",
    "fig, axes = plt.subplots(n_categories, 1, figsize=(6.5, 6), sharey=False)\n",
    "\n",
    "if n_categories == 1:\n",
    "    axes = [axes]  # ensure axes is always iterable\n",
    "\n",
    "for ax, category in zip(axes, categories):\n",
    "    subset = table[table['metric_category'] == category]\n",
    "\n",
    "    # We'll plot by metric_clean on x, and Method within each x as grouped points\n",
    "    metrics = subset['metric_clean'].unique()\n",
    "    methods = list(mitigation_map.values())[1:]\n",
    "    x_locs = range(len(metrics))\n",
    "    width = 0.2\n",
    "\n",
    "    # For color/legend\n",
    "    color_map = {'Instruction': 'tab:blue', 'Refine': 'tab:orange', 'Refine + Instruction': 'tab:green'}\n",
    "\n",
    "    for i, method in enumerate(methods):\n",
    "        method_data = subset[subset['Method'] == method]\n",
    "        for j, metric in enumerate(metrics):\n",
    "            point = method_data[method_data['metric_clean'] == metric]\n",
    "            if not point.empty:\n",
    "                coef = point['Coef.'].values[0]\n",
    "                lower = point['[0.025'].values[0]\n",
    "                upper = point['0.975]'].values[0]\n",
    "                error = [[coef - lower], [upper - coef]]\n",
    "\n",
    "                ax.errorbar(\n",
    "                    j + i * width - width,  # Shift x slightly per method\n",
    "                    coef,\n",
    "                    yerr=error,\n",
    "                    fmt='o',\n",
    "                    capsize=4,\n",
    "                    label=method if j == 0 else \"\",  # only add label once per method\n",
    "                    color=color_map.get(method, 'gray')\n",
    "                )\n",
    "\n",
    "    #ax.set_title(f\"{category}\")\n",
    "    ax.set_xticks(range(len(metrics)))\n",
    "    ax.set_xticklabels(metrics, rotation=0, ha='center')\n",
    "    ax.set_ylabel(\"\")\n",
    "    ax.axhline(0, color='black', linewidth=0.8, linestyle='--')\n",
    "    if category== \"Exp. Advant.\": \n",
    "        ax.legend()\n",
    "        sns.move_legend(ax, \"upper left\", bbox_to_anchor=(-.05, 1.4),ncols=3)\n",
    "\n",
    "fig.supylabel(\"Mitigation effect (large models)\")\n",
    "plt.subplots_adjust(wspace=0., hspace=.45, left=.15)\n",
    "plt.show()\n"
   ]
  },
  {
   "cell_type": "code",
   "execution_count": null,
   "id": "5021c9bd-e241-431d-8246-b3dc3f4f810a",
   "metadata": {},
   "outputs": [],
   "source": [
    "#fig.savefig(\"../persona_performance_paper/media/mitigation_coefs_large.pdf\", bbox_inches=\"tight\")"
   ]
  },
  {
   "cell_type": "code",
   "execution_count": null,
   "id": "a087c9a2-c97b-47e0-9b13-c97bfc167069",
   "metadata": {},
   "outputs": [],
   "source": [
    "metrics = [\"Exp. Advant.\\n(static)\", \"Exp. Advant.\\n(broad)\", \"Exp. Advant.\\n(focused)\", \"Exp. Advant.\\n(niche)\", \"Robustness\\n(color)\", \"Robustness\\n(name)\", \"Fidelity\\n(domain match)\", \"Fidelity\\n(education)\", \"Fidelity\\n(expertise level)\"]"
   ]
  },
  {
   "cell_type": "code",
   "execution_count": null,
   "id": "ad3d97ef-4663-4581-8489-a1618945e1ce",
   "metadata": {},
   "outputs": [],
   "source": [
    "mitigation_dfs[-1].groupby(\"method\").score.sem()"
   ]
  },
  {
   "cell_type": "code",
   "execution_count": null,
   "id": "286578a9-948a-4ee6-9d67-524faccb10b0",
   "metadata": {},
   "outputs": [],
   "source": [
    "mdf.scale"
   ]
  },
  {
   "cell_type": "code",
   "execution_count": null,
   "id": "dea88fde-3cbb-4f02-b7e0-392d9bafa089",
   "metadata": {},
   "outputs": [],
   "source": [
    "np.diag(mdf.cov_params())"
   ]
  },
  {
   "cell_type": "code",
   "execution_count": null,
   "id": "59791683-3560-43db-b584-961c04971863",
   "metadata": {},
   "outputs": [],
   "source": [
    "all_coefs = pd.DataFrame()\n",
    "all_metrics = []\n",
    "for idx, df in enumerate(mitigation_dfs):\n",
    "    md = smf.mixedlm(\"score ~ 0+ C(method)\", df, groups=df[\"modelTask\"])\n",
    "    \n",
    "    mdf = md.fit()\n",
    "    coefs = mdf.summary().tables[1]\n",
    "    coefs[\"Coef.\"] = coefs[\"Coef.\"].astype(\"float\")\n",
    "    coefs = coefs.rename(index=lambda x: x.split(\"[\")[-1].rstrip(\"]\"))\n",
    "    display(coefs)\n",
    "    all_metrics.extend(4*[metrics[idx]])\n",
    "    all_coefs = pd.concat([all_coefs, coefs.loc[list(mitigation_map.values())]], axis=0)"
   ]
  },
  {
   "cell_type": "code",
   "execution_count": null,
   "id": "a3336f3d-6e46-410a-aad0-6d82bcd2754a",
   "metadata": {},
   "outputs": [],
   "source": [
    "table= all_coefs.astype(\"float\")"
   ]
  },
  {
   "cell_type": "code",
   "execution_count": null,
   "id": "6775cd5d-5148-4cd3-a7ff-8993aff5c20d",
   "metadata": {},
   "outputs": [],
   "source": [
    "table[\"metric\"] = all_metrics"
   ]
  },
  {
   "cell_type": "code",
   "execution_count": null,
   "id": "08cc11e7-2c43-4e33-8487-6317b560f8d0",
   "metadata": {},
   "outputs": [],
   "source": [
    "table[\"metric\"] = table.metric.astype(pd.CategoricalDtype(categories=metric_names, ordered=True))"
   ]
  },
  {
   "cell_type": "code",
   "execution_count": null,
   "id": "beec525b-2f96-4dfc-a42f-8f38e76440b9",
   "metadata": {},
   "outputs": [],
   "source": [
    "table[\"metric_category\"] = table.metric.map(lambda x: x.split(\"\\n\")[0]).astype(pd.CategoricalDtype(categories=metric_categories, ordered=True))"
   ]
  },
  {
   "cell_type": "code",
   "execution_count": null,
   "id": "fe562fcd-e384-43d3-be08-813996a1753c",
   "metadata": {},
   "outputs": [],
   "source": [
    "table = table.sort_values([\"metric_category\", \"metric\"])"
   ]
  },
  {
   "cell_type": "code",
   "execution_count": null,
   "id": "06acd742-afe9-4fd9-b02f-6c22c65e86fb",
   "metadata": {},
   "outputs": [],
   "source": [
    "table= table.reset_index()"
   ]
  },
  {
   "cell_type": "code",
   "execution_count": null,
   "id": "762e0070-dab9-4d80-a4a1-508a8a91452b",
   "metadata": {},
   "outputs": [],
   "source": [
    "table = table.rename(columns=lambda x: \"Method\" if x == \"index\" else x)"
   ]
  },
  {
   "cell_type": "code",
   "execution_count": null,
   "id": "873c2f25-85a6-43d7-94c4-d023d1403091",
   "metadata": {},
   "outputs": [],
   "source": [
    "# Clean up the metric names\n",
    "table['metric_clean'] = table['metric']\n",
    "\n",
    "# Group by metric category\n",
    "categories = table['metric_category'].unique()\n",
    "n_categories = len(categories)\n",
    "\n",
    "# Set up the figure\n",
    "fig, axes = plt.subplots(n_categories, 1, figsize=(6.5, 3.5), sharey=False)\n",
    "\n",
    "if n_categories == 1:\n",
    "    axes = [axes]  # ensure axes is always iterable\n",
    "\n",
    "for ax, category in zip(axes, categories):\n",
    "    subset = table[table['metric_category'] == category]\n",
    "\n",
    "    # We'll plot by metric_clean on x, and Method within each x as grouped points\n",
    "    metrics = subset['metric_clean'].unique()\n",
    "    methods = list(mitigation_map.values())\n",
    "    x_locs = range(len(metrics))\n",
    "    width = 0.2\n",
    "\n",
    "    # For color/legend\n",
    "    color_map = {\"Base prompt\": \"black\",'Instruction': 'tab:blue', 'Refine': 'tab:orange', 'Refine + Instruction': 'tab:green'}\n",
    "    marker_map = {\n",
    "            \"Base prompt\": \"o\",      # circle\n",
    "            \"Instruction\": \"s\",      # square\n",
    "            \"Refine\": \"D\",           # diamond\n",
    "            \"Refine + Instruction\": \"^\"  # triangle_up\n",
    "        }\n",
    "\n",
    "    for i, method in enumerate(methods):\n",
    "        method_data = subset[subset['Method'] == method]\n",
    "        for j, metric in enumerate(metrics):\n",
    "            point = method_data[method_data['metric_clean'] == metric]\n",
    "            if not point.empty:\n",
    "                coef = point['Coef.'].values[0]\n",
    "                lower = point['[0.025'].values[0]\n",
    "                upper = point['0.975]'].values[0]\n",
    "                error = [[coef - lower], [upper - coef]]\n",
    "\n",
    "                ax.errorbar(\n",
    "                    j + i * width - width,  # Shift x slightly per method\n",
    "                    coef,\n",
    "                    yerr=error,\n",
    "                    fmt=marker_map.get(method, 'o'),\n",
    "                    capsize=6,\n",
    "                    label=method if j == 0 else \"\",  # only add label once per method\n",
    "                    color=color_map.get(method, 'gray')\n",
    "                )\n",
    "\n",
    "    #ax.set_title(f\"{category}\")\n",
    "    ax.set_xticks(range(len(metrics)))\n",
    "    ax.set_xticklabels(metrics, rotation=0, ha='center')\n",
    "    ax.set_ylabel(\"\")\n",
    "    ax.axhline(0, color='black', linewidth=0.8, linestyle='--')\n",
    "    # if category== \"Exp. Advant.\": \n",
    "    #     ax.legend()\n",
    "    #     sns.move_legend(ax, \"upper left\", bbox_to_anchor=(-.05, 1.65),ncols=2)\n",
    "\n",
    "fig.supylabel(\"Prompt effect (large only)\")\n",
    "plt.subplots_adjust(wspace=0., hspace=.95, left=.15)\n",
    "plt.show()\n"
   ]
  },
  {
   "cell_type": "code",
   "execution_count": null,
   "id": "2ba070b3-8f30-4c57-a855-ce616712d5b9",
   "metadata": {},
   "outputs": [],
   "source": [
    "fig.savefig(\"../persona_performance_paper/media/mitigation_coefs_large_nopersona.pdf\", bbox_inches=\"tight\")"
   ]
  }
 ],
 "metadata": {
  "kernelspec": {
   "display_name": "persona-performance",
   "language": "python",
   "name": "persona-performance"
  },
  "language_info": {
   "codemirror_mode": {
    "name": "ipython",
    "version": 3
   },
   "file_extension": ".py",
   "mimetype": "text/x-python",
   "name": "python",
   "nbconvert_exporter": "python",
   "pygments_lexer": "ipython3",
   "version": "3.12.0"
  }
 },
 "nbformat": 4,
 "nbformat_minor": 5
}
